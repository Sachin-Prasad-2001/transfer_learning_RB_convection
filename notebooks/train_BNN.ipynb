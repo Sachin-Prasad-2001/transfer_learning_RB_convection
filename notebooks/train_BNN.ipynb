{
  "nbformat": 4,
  "nbformat_minor": 0,
  "metadata": {
    "colab": {
      "provenance": []
    },
    "kernelspec": {
      "name": "python3",
      "display_name": "Python 3"
    },
    "language_info": {
      "name": "python"
    }
  },
  "cells": [
    {
      "cell_type": "code",
      "execution_count": null,
      "metadata": {
        "id": "9Ugvz26B8fdq"
      },
      "outputs": [],
      "source": [
        "# Build a Network that takes ux_hat, uy_hat, T_hat as input and gives sigma and tau as outputs\n",
        "\n",
        "\n",
        "import tensorflow as tf\n",
        "tf.random.set_seed(10)\n",
        "import random\n",
        "random.seed()\n",
        "\n",
        "from keras import layers\n",
        "\n",
        "from tensorflow.python.keras.backend import clear_session\n",
        "\n",
        "from keras.layers import Input, Convolution2D, Convolution1D, MaxPooling2D, Dense, Dropout, \\\n",
        "                          Flatten, concatenate, Activation, Reshape, \\\n",
        "                          UpSampling2D,ZeroPadding2D\n",
        "from keras.layers import Dense\n",
        "from keras import Sequential\n",
        "import h5py\n",
        "import keras\n",
        "from scipy.io import loadmat,savemat"
      ]
    },
    {
      "cell_type": "code",
      "source": [
        "# Load the files from the RB simulation\n",
        "\n",
        "with h5py.File('input_normalized.h5', 'r') as hf:\n",
        "    inpit_normalized = np.array(hf['input_normalized'])\n",
        "\n",
        "with h5py.File('input_normalized_val.h5', 'r') as hf:\n",
        "    inpit_normalized = np.array(hf['input_normalized_val'])\n",
        "\n",
        "with h5py.File('output_normalized.h5', 'r') as hf:\n",
        "    inpit_normalized = np.array(hf['output_normalized'])\n",
        "\n",
        "with h5py.File('output_normalized_val.h5', 'r') as hf:\n",
        "    inpit_normalized = np.array(hf['output_normalized_val'])"
      ],
      "metadata": {
        "id": "Axnadt899IFz"
      },
      "execution_count": null,
      "outputs": []
    },
    {
      "cell_type": "code",
      "source": [
        "print(input_normalized.shape)\n",
        "print(input_normalized_val.shape)\n",
        "\n",
        "print(output_normalized.shape)\n",
        "print(output_normalized_val.shape)"
      ],
      "metadata": {
        "id": "uCdzQ8WX9AK8"
      },
      "execution_count": null,
      "outputs": []
    },
    {
      "cell_type": "code",
      "source": [
        "def build_model(conv_depth, kernel_size, hidden_size, n_hidden_layers, lr):\n",
        "\n",
        "    model = keras.Sequential([\n",
        "\n",
        "            Convolution2D(conv_depth, kernel_size, padding='same', activation=conv_activation, input_shape=(Nlon,Nlat,n_channels)),\n",
        "            Convolution2D(conv_depth, kernel_size, padding='same', activation=conv_activation),\n",
        "            Convolution2D(conv_depth, kernel_size, padding='same', activation=conv_activation),\n",
        "            Convolution2D(conv_depth, kernel_size, padding='same', activation=conv_activation),\n",
        "            Convolution2D(conv_depth, kernel_size, padding='same', activation=conv_activation),\n",
        "            ] + [keras.layers.Dense(hidden_size, activation='sigmoid') for i in range(n_hidden_layers)] +\n",
        "\n",
        "            [\n",
        "\n",
        "            Convolution2D(conv_depth, kernel_size, padding='same', activation=conv_activation),\n",
        "            Convolution2D(conv_depth, kernel_size, padding='same', activation=conv_activation),\n",
        "            Convolution2D(conv_depth, kernel_size, padding='same', activation=conv_activation),\n",
        "            Convolution2D(conv_depth, kernel_size, padding='same', activation=conv_activation),\n",
        "            Convolution2D(conv_depth, kernel_size, padding='same', activation=conv_activation),\n",
        "            layers.Convolution2D(5, kernel_size, padding='same', activation=None)\n",
        "            ]\n",
        "            )\n",
        "    optimizer= keras.optimizers.Adam(lr=lr)\n",
        "\n",
        "\n",
        "    model.compile(loss='mean_squared_error', optimizer = optimizer)\n",
        "\n",
        "    return model"
      ],
      "metadata": {
        "id": "3C15UAdD9aQt"
      },
      "execution_count": null,
      "outputs": []
    },
    {
      "cell_type": "code",
      "source": [
        "# Set model hyperparameters\n",
        "\n",
        "params = {'conv_depth': 32, 'hidden_size': 5000,\n",
        "              'kernel_size': 5, 'lr': 0.00005, 'n_hidden_layers': 0}\n",
        "\n",
        "model = build_model(**params)\n",
        "print(model.summary())"
      ],
      "metadata": {
        "id": "Jyv70aQP9jXz"
      },
      "execution_count": null,
      "outputs": []
    },
    {
      "cell_type": "code",
      "source": [
        "model.fit(input_normalized, output_normalized, batch_size=batch_size, shuffle=True, verbose=1, epochs=100,validation_data=(input_normalized_val,output_normalized_val))"
      ],
      "metadata": {
        "id": "1nFesYr89mKo"
      },
      "execution_count": null,
      "outputs": []
    },
    {
      "cell_type": "code",
      "source": [
        "model.save('./CNN')\n",
        "model.save_weights('./weights_CNN')"
      ],
      "metadata": {
        "id": "tgjQCDrn9pER"
      },
      "execution_count": null,
      "outputs": []
    },
    {
      "cell_type": "code",
      "source": [
        "# save model as zip file to download\n",
        "\n",
        "!zip -r 'CNN.zip' 'CNN'"
      ],
      "metadata": {
        "id": "qwoJ8yIy9r4f"
      },
      "execution_count": null,
      "outputs": []
    },
    {
      "cell_type": "code",
      "source": [
        "pred = model.predict(input_normalized_val[:,:,:,:])\n",
        "correct = output_normalized_val[:,:,:,:]"
      ],
      "metadata": {
        "id": "DDybds5k9yYH"
      },
      "execution_count": null,
      "outputs": []
    },
    {
      "cell_type": "code",
      "source": [
        "# calculate the correlation coefficient between the prediction and the true values in the validation set\n",
        "\n",
        "x = pred.flatten()\n",
        "y = correct.flatten()\n",
        "print(np.corrcoef(x,y)[0,1])"
      ],
      "metadata": {
        "id": "Q4P_PJa8-ATN"
      },
      "execution_count": null,
      "outputs": []
    }
  ]
}