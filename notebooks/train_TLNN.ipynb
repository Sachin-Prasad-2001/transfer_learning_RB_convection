{
  "nbformat": 4,
  "nbformat_minor": 0,
  "metadata": {
    "colab": {
      "provenance": []
    },
    "kernelspec": {
      "name": "python3",
      "display_name": "Python 3"
    },
    "language_info": {
      "name": "python"
    }
  },
  "cells": [
    {
      "cell_type": "code",
      "execution_count": null,
      "metadata": {
        "colab": {
          "base_uri": "https://localhost:8080/"
        },
        "id": "FMjsQpk9zklo",
        "outputId": "e0a160ad-87d7-40b9-9b30-15986f17537e"
      },
      "outputs": [
        {
          "output_type": "stream",
          "name": "stdout",
          "text": [
            "Mounted at /content/drive\n"
          ]
        }
      ],
      "source": [
        "#from google.colab import drive\n",
        "#drive.mount('/content/drive')"
      ]
    },
    {
      "cell_type": "code",
      "source": [
        "!unzip CNN.zip"
      ],
      "metadata": {
        "colab": {
          "base_uri": "https://localhost:8080/"
        },
        "id": "JLerUShl41JK",
        "outputId": "8978ed9d-894d-4fcb-db7f-39ef28aba33a"
      },
      "execution_count": null,
      "outputs": [
        {
          "output_type": "stream",
          "name": "stdout",
          "text": [
            "Archive:  CNN.zip\n",
            "   creating: CNN/\n",
            "   creating: CNN/variables/\n",
            "  inflating: CNN/variables/variables.data-00000-of-00001  \n",
            "  inflating: CNN/variables/variables.index  \n",
            "  inflating: CNN/saved_model.pb      \n",
            " extracting: CNN/fingerprint.pb      \n",
            "  inflating: CNN/keras_metadata.pb   \n",
            "   creating: CNN/assets/\n"
          ]
        }
      ]
    },
    {
      "cell_type": "code",
      "source": [
        "import tensorflow as tf\n",
        "tf.random.set_seed(10)\n",
        "import random\n",
        "random.seed()\n",
        "\n",
        "import os\n",
        "import sys\n",
        "import numpy as np\n",
        "\n",
        "from keras import layers\n",
        "\n",
        "from tensorflow.python.keras.backend import clear_session\n",
        "\n",
        "from keras.layers import Input, Convolution2D, Convolution1D, MaxPooling2D, Dense, Dropout, \\\n",
        "                          Flatten, concatenate, Activation, Reshape, \\\n",
        "                          UpSampling2D,ZeroPadding2D\n",
        "from keras.layers import Dense\n",
        "from keras import Sequential\n",
        "import h5py\n",
        "import keras\n",
        "\n",
        "from scipy.io import loadmat,savemat\n",
        "\n",
        "\n",
        "#train_orig = 2000\n",
        "\n",
        "#percent = 10\n",
        "\n",
        "#trainN = int(int(percent)*.01*train_orig)\n",
        "trainN = 160\n",
        "\n",
        "valN=41\n",
        "lead=1;\n",
        "batch_size = 16\n",
        "num_epochs = 50\n",
        "pool_size = 2\n",
        "drop_prob=0.0\n",
        "conv_activation='relu'\n",
        "Nlat=64\n",
        "Nlon=64\n",
        "n_channels=3\n",
        "#NT = 3000 # Numer of snapshots per file\n",
        "numDataset = 1 # number of dataset / 2\n",
        "\n",
        "## Data set has 100k data points\n",
        "\n",
        "\n",
        "print('Start....')\n",
        "\n",
        "\n",
        "def reset_keras():\n",
        "    sess = tf.compat.v1.keras.backend.get_session()\n",
        "    tf.compat.v1.keras.backend.clear_session()\n",
        "    sess.close()\n",
        "    sess = tf.compat.v1.keras.backend.get_session()\n",
        "\n",
        "    try:\n",
        "        del classifier # this is from global space - change this as you need\n",
        "    except:\n",
        "        pass\n",
        "\n",
        "    # use the same config as you used to create the session\n",
        "    config = tf.compat.v1.ConfigProto()\n",
        "    config.gpu_options.per_process_gpu_memory_fraction = 1\n",
        "    config.gpu_options.visible_device_list = \"0\"\n",
        "    tf.compat.v1.keras.backend.set_session(tf.compat.v1.Session(config=config))\n",
        "\n",
        "def build_model(conv_depth, kernel_size, hidden_size, n_hidden_layers, lr):\n",
        "\n",
        "    model = keras.Sequential([\n",
        "\n",
        "            ## Convolution with dimensionality reduction (similar to Encoder in an autoencoder)\n",
        "            Convolution2D(conv_depth, kernel_size, padding='same', activation=conv_activation, input_shape=(Nlon,Nlat,n_channels),trainable = False),\n",
        "            Convolution2D(conv_depth, kernel_size, padding='same', activation=conv_activation,trainable = False),\n",
        "            Convolution2D(conv_depth, kernel_size, padding='same', activation=conv_activation,trainable = False),\n",
        "            Convolution2D(conv_depth, kernel_size, padding='same', activation=conv_activation,trainable = False),\n",
        "            Convolution2D(conv_depth, kernel_size, padding='same', activation=conv_activation,trainable = False),\n",
        "\n",
        "            ] + [keras.layers.Dense(hidden_size, activation='sigmoid', trainable = False) for i in range(n_hidden_layers)] +\n",
        "\n",
        "            [\n",
        "\n",
        "            Convolution2D(conv_depth, kernel_size, padding='same', activation=conv_activation,trainable = False),\n",
        "            Convolution2D(conv_depth, kernel_size, padding='same', activation=conv_activation,trainable = False),\n",
        "            Convolution2D(conv_depth, kernel_size, padding='same', activation=conv_activation,trainable = False),\n",
        "            Convolution2D(conv_depth, kernel_size, padding='same', activation=conv_activation,trainable = False),\n",
        "            Convolution2D(conv_depth, kernel_size, padding='same', activation=conv_activation,trainable = False),\n",
        "            layers.Convolution2D(5, kernel_size, padding='same', activation=None,trainable = False)\n",
        "            ]\n",
        "            )\n",
        "    optimizer= keras.optimizers.Adam(lr=lr)\n",
        "\n",
        "\n",
        "    model.compile(loss='mean_squared_error', optimizer = optimizer)\n",
        "\n",
        "    return model"
      ],
      "metadata": {
        "colab": {
          "base_uri": "https://localhost:8080/"
        },
        "id": "sNlnke8Kz1IH",
        "outputId": "e0cdfec7-05ee-4a29-a2db-6e9ffd5f4b34"
      },
      "execution_count": null,
      "outputs": [
        {
          "output_type": "stream",
          "name": "stdout",
          "text": [
            "Start....\n"
          ]
        }
      ]
    },
    {
      "cell_type": "code",
      "source": [
        "import h5py\n",
        "import numpy as np\n",
        "\n",
        "# Load the files which contain the simulation data for the target system (Ra = 10^6)\n",
        "\n",
        "filename = \"/content/drive/MyDrive/mtp2/TL_data_new/input_normalized.h5\"\n",
        "\n",
        "with h5py.File(filename, \"r\") as f:\n",
        "  input_normalized = np.array(f['input_normalized'])\n",
        "  print(input_normalized.shape)\n",
        "\n",
        "filename = \"/content/drive/MyDrive/mtp2/TL_data_new/input_normalized_val.h5\"\n",
        "\n",
        "with h5py.File(filename, \"r\") as f:\n",
        "  input_normalized_val = np.array(f['input_normalized_val'])\n",
        "  print(input_normalized_val.shape)\n",
        "\n",
        "filename = \"/content/drive/MyDrive/mtp2/TL_data_new/output_normalized.h5\"\n",
        "\n",
        "with h5py.File(filename, \"r\") as f:\n",
        "  output_normalized = np.array(f['output_normalized'])\n",
        "  print(output_normalized.shape)\n",
        "\n",
        "filename = \"/content/drive/MyDrive/mtp2/TL_data_new/output_normalized_val.h5\"\n",
        "\n",
        "with h5py.File(filename, \"r\") as f:\n",
        "  output_normalized_val = np.array(f['output_normalized_val'])\n",
        "  print(output_normalized_val.shape)"
      ],
      "metadata": {
        "colab": {
          "base_uri": "https://localhost:8080/"
        },
        "id": "RYz1n-rIfN0T",
        "outputId": "180f0597-83ba-475d-f910-2ce5c61e876b"
      },
      "execution_count": null,
      "outputs": [
        {
          "output_type": "stream",
          "name": "stdout",
          "text": [
            "(160, 64, 64, 3)\n",
            "(41, 64, 64, 3)\n",
            "(160, 64, 64, 5)\n",
            "(41, 64, 64, 5)\n"
          ]
        }
      ]
    },
    {
      "cell_type": "code",
      "source": [
        "params = {'conv_depth': 32, 'hidden_size': 5000,\n",
        "              'kernel_size': 5, 'lr': 0.00005, 'n_hidden_layers': 0}\n",
        "\n",
        "\n",
        "for j in range(1,12):\n",
        "    TL_layers = str(j)\n",
        "    layers_str = '_' + TL_layers\n",
        "\n",
        "\n",
        "    print('Finish Initialization')\n",
        "    print(np.shape(input_normalized))\n",
        "    print('Memory taken by training input:')\n",
        "    print(input_normalized.nbytes)\n",
        "    print('Memory taken by training output:')\n",
        "    print(np.shape(output_normalized))\n",
        "    print(output_normalized.nbytes)\n",
        "\n",
        "    print('Memory taken by validation input:')\n",
        "    print(input_normalized_val.nbytes)\n",
        "    print('Memory taken by validation output:')\n",
        "    print(np.shape(output_normalized))\n",
        "    print(output_normalized_val.nbytes)\n",
        "\n",
        "\n",
        "    reset_keras()\n",
        "\n",
        "    model = build_model(**params)\n",
        "\n",
        "    model.load_weights('CNN')\n",
        "\n",
        "\n",
        "    layer = model.layers[j-1]\n",
        "    layer.trainable = True\n",
        "\n",
        "    print(model.summary())\n",
        "    optimizer= keras.optimizers.Adam(lr=params['lr'])\n",
        "\n",
        "    model.compile(loss='mean_squared_error', optimizer = optimizer)\n",
        "\n",
        "    loss = []\n",
        "    val_loss = []\n",
        "\n",
        "    hist = model.fit(input_normalized[0:trainN,:,:,:], output_normalized[0:trainN,:,:,:],\n",
        "                 batch_size = batch_size,shuffle='True',\n",
        "                 verbose = 0,\n",
        "                 epochs = num_epochs,\n",
        "                 validation_data=(input_normalized_val[:,:,:,:],output_normalized_val[:,:,:,:]))\n",
        "\n",
        "    loss = np.hstack([loss,hist.history['loss']])\n",
        "    val_loss = np.hstack([val_loss,hist.history['val_loss']])\n",
        "    print(val_loss)\n",
        "\n",
        "\n",
        "    savemat('./Loss_TL_from_Ra_10k_to_Re_1M_per_train_p' + '_layers'+str(layers_str) + '.mat',dict([('loss',loss),('val_loss',val_loss)]))\n",
        "    model.save_weights('./weights_TL_from_Ra_10k_to_Re_1M_per_train_p'+'_layers'+str(layers_str))\n",
        "    model.save('./Models/CNN_TL_from_Ra_10k_to_Re_1M_per_train_p'+'_layers'+str(layers_str))\n",
        "    prediction=model.predict(input_normalized_val[0:100,:,:,:])\n",
        "\n",
        "\n",
        "    savemat('./prediction_TL_from_Ra_10k_to_Re_1M_per_train_p'+'_layers'+str(layers_str)+'.mat',dict([('test',output_normalized_val[:,:,:,:]),('input',input_normalized_val[:,:,:,:]),('prediction',prediction[:,:,:])]))"
      ],
      "metadata": {
        "colab": {
          "base_uri": "https://localhost:8080/"
        },
        "id": "SXBobvEggVAy",
        "outputId": "357fe5ee-27b5-4a66-f4cd-bbf8f9d384c5"
      },
      "execution_count": null,
      "outputs": [
        {
          "output_type": "stream",
          "name": "stderr",
          "text": [
            "WARNING:absl:`lr` is deprecated in Keras optimizer, please use `learning_rate` or use the legacy optimizer, e.g.,tf.keras.optimizers.legacy.Adam.\n"
          ]
        },
        {
          "output_type": "stream",
          "name": "stdout",
          "text": [
            "Finish Initialization\n",
            "(160, 64, 64, 3)\n",
            "Memory taken by training input:\n",
            "7864320\n",
            "Memory taken by training output:\n",
            "(160, 64, 64, 5)\n",
            "13107200\n",
            "Memory taken by validation input:\n",
            "2015232\n",
            "Memory taken by validation output:\n",
            "(160, 64, 64, 5)\n",
            "3358720\n",
            "Model: \"sequential\"\n",
            "_________________________________________________________________\n",
            " Layer (type)                Output Shape              Param #   \n",
            "=================================================================\n",
            " conv2d (Conv2D)             (None, 64, 64, 32)        2432      \n",
            "                                                                 \n",
            " conv2d_1 (Conv2D)           (None, 64, 64, 32)        25632     \n",
            "                                                                 \n",
            " conv2d_2 (Conv2D)           (None, 64, 64, 32)        25632     \n",
            "                                                                 \n",
            " conv2d_3 (Conv2D)           (None, 64, 64, 32)        25632     \n",
            "                                                                 \n",
            " conv2d_4 (Conv2D)           (None, 64, 64, 32)        25632     \n",
            "                                                                 \n",
            " conv2d_5 (Conv2D)           (None, 64, 64, 32)        25632     \n",
            "                                                                 \n",
            " conv2d_6 (Conv2D)           (None, 64, 64, 32)        25632     \n",
            "                                                                 \n",
            " conv2d_7 (Conv2D)           (None, 64, 64, 32)        25632     \n",
            "                                                                 \n",
            " conv2d_8 (Conv2D)           (None, 64, 64, 32)        25632     \n",
            "                                                                 \n",
            " conv2d_9 (Conv2D)           (None, 64, 64, 32)        25632     \n",
            "                                                                 \n",
            " conv2d_10 (Conv2D)          (None, 64, 64, 5)         4005      \n",
            "                                                                 \n",
            "=================================================================\n",
            "Total params: 237125 (926.27 KB)\n",
            "Trainable params: 2432 (9.50 KB)\n",
            "Non-trainable params: 234693 (916.77 KB)\n",
            "_________________________________________________________________\n"
          ]
        },
        {
          "output_type": "stream",
          "name": "stderr",
          "text": [
            "WARNING:absl:`lr` is deprecated in Keras optimizer, please use `learning_rate` or use the legacy optimizer, e.g.,tf.keras.optimizers.legacy.Adam.\n"
          ]
        },
        {
          "output_type": "stream",
          "name": "stdout",
          "text": [
            "None\n",
            "[0.00020851 0.00020194 0.00019845 0.00019504 0.00019262 0.00019069\n",
            " 0.00018939 0.00018841 0.00018748 0.00018662 0.00018573 0.00018495\n",
            " 0.00018417 0.0001835  0.00018296 0.00018245 0.00018202 0.00018154\n",
            " 0.00018121 0.00018086 0.00018057 0.0001802  0.00017987 0.00017962\n",
            " 0.00017937 0.00017908 0.00017869 0.00017865 0.0001784  0.0001781\n",
            " 0.00017781 0.0001777  0.00017736 0.00017732 0.00017713 0.00017674\n",
            " 0.0001767  0.00017648 0.0001762  0.00017622 0.00017591 0.00017562\n",
            " 0.00017597 0.00017548 0.00017521 0.00017519 0.00017501 0.00017493\n",
            " 0.00017474 0.00017459]\n",
            "2/2 [==============================] - 1s 6ms/step\n"
          ]
        },
        {
          "output_type": "stream",
          "name": "stderr",
          "text": [
            "WARNING:absl:`lr` is deprecated in Keras optimizer, please use `learning_rate` or use the legacy optimizer, e.g.,tf.keras.optimizers.legacy.Adam.\n"
          ]
        },
        {
          "output_type": "stream",
          "name": "stdout",
          "text": [
            "Finish Initialization\n",
            "(160, 64, 64, 3)\n",
            "Memory taken by training input:\n",
            "7864320\n",
            "Memory taken by training output:\n",
            "(160, 64, 64, 5)\n",
            "13107200\n",
            "Memory taken by validation input:\n",
            "2015232\n",
            "Memory taken by validation output:\n",
            "(160, 64, 64, 5)\n",
            "3358720\n",
            "Model: \"sequential\"\n",
            "_________________________________________________________________\n",
            " Layer (type)                Output Shape              Param #   \n",
            "=================================================================\n",
            " conv2d (Conv2D)             (None, 64, 64, 32)        2432      \n",
            "                                                                 \n",
            " conv2d_1 (Conv2D)           (None, 64, 64, 32)        25632     \n",
            "                                                                 \n",
            " conv2d_2 (Conv2D)           (None, 64, 64, 32)        25632     \n",
            "                                                                 \n",
            " conv2d_3 (Conv2D)           (None, 64, 64, 32)        25632     \n",
            "                                                                 \n",
            " conv2d_4 (Conv2D)           (None, 64, 64, 32)        25632     \n",
            "                                                                 \n",
            " conv2d_5 (Conv2D)           (None, 64, 64, 32)        25632     \n",
            "                                                                 \n",
            " conv2d_6 (Conv2D)           (None, 64, 64, 32)        25632     \n",
            "                                                                 \n",
            " conv2d_7 (Conv2D)           (None, 64, 64, 32)        25632     \n",
            "                                                                 \n",
            " conv2d_8 (Conv2D)           (None, 64, 64, 32)        25632     \n",
            "                                                                 \n",
            " conv2d_9 (Conv2D)           (None, 64, 64, 32)        25632     \n",
            "                                                                 \n",
            " conv2d_10 (Conv2D)          (None, 64, 64, 5)         4005      \n",
            "                                                                 \n",
            "=================================================================\n",
            "Total params: 237125 (926.27 KB)\n",
            "Trainable params: 25632 (100.12 KB)\n",
            "Non-trainable params: 211493 (826.14 KB)\n",
            "_________________________________________________________________\n"
          ]
        },
        {
          "output_type": "stream",
          "name": "stderr",
          "text": [
            "WARNING:absl:`lr` is deprecated in Keras optimizer, please use `learning_rate` or use the legacy optimizer, e.g.,tf.keras.optimizers.legacy.Adam.\n"
          ]
        },
        {
          "output_type": "stream",
          "name": "stdout",
          "text": [
            "None\n",
            "[0.00020485 0.0001943  0.00018828 0.00018556 0.00018336 0.00018154\n",
            " 0.00018028 0.0001788  0.00017763 0.0001767  0.0001756  0.00017465\n",
            " 0.00017369 0.00017281 0.00017188 0.00017101 0.00017024 0.00016947\n",
            " 0.00016876 0.00016794 0.00016728 0.00016667 0.00016618 0.00016539\n",
            " 0.00016484 0.00016434 0.00016377 0.00016318 0.00016247 0.00016199\n",
            " 0.00016152 0.00016107 0.00016054 0.00016004 0.00015947 0.00015934\n",
            " 0.0001587  0.00015829 0.0001581  0.00015734 0.00015703 0.00015672\n",
            " 0.00015626 0.00015596 0.00015556 0.00015521 0.00015532 0.00015479\n",
            " 0.00015446 0.00015399]\n",
            "2/2 [==============================] - 0s 17ms/step\n",
            "Finish Initialization\n",
            "(160, 64, 64, 3)\n",
            "Memory taken by training input:\n",
            "7864320\n",
            "Memory taken by training output:\n",
            "(160, 64, 64, 5)\n",
            "13107200\n",
            "Memory taken by validation input:\n",
            "2015232\n",
            "Memory taken by validation output:\n",
            "(160, 64, 64, 5)\n",
            "3358720\n"
          ]
        },
        {
          "output_type": "stream",
          "name": "stderr",
          "text": [
            "WARNING:absl:`lr` is deprecated in Keras optimizer, please use `learning_rate` or use the legacy optimizer, e.g.,tf.keras.optimizers.legacy.Adam.\n"
          ]
        },
        {
          "output_type": "stream",
          "name": "stdout",
          "text": [
            "Model: \"sequential\"\n",
            "_________________________________________________________________\n",
            " Layer (type)                Output Shape              Param #   \n",
            "=================================================================\n",
            " conv2d (Conv2D)             (None, 64, 64, 32)        2432      \n",
            "                                                                 \n",
            " conv2d_1 (Conv2D)           (None, 64, 64, 32)        25632     \n",
            "                                                                 \n",
            " conv2d_2 (Conv2D)           (None, 64, 64, 32)        25632     \n",
            "                                                                 \n",
            " conv2d_3 (Conv2D)           (None, 64, 64, 32)        25632     \n",
            "                                                                 \n",
            " conv2d_4 (Conv2D)           (None, 64, 64, 32)        25632     \n",
            "                                                                 \n",
            " conv2d_5 (Conv2D)           (None, 64, 64, 32)        25632     \n",
            "                                                                 \n",
            " conv2d_6 (Conv2D)           (None, 64, 64, 32)        25632     \n",
            "                                                                 \n",
            " conv2d_7 (Conv2D)           (None, 64, 64, 32)        25632     \n",
            "                                                                 \n",
            " conv2d_8 (Conv2D)           (None, 64, 64, 32)        25632     \n",
            "                                                                 \n",
            " conv2d_9 (Conv2D)           (None, 64, 64, 32)        25632     \n",
            "                                                                 \n",
            " conv2d_10 (Conv2D)          (None, 64, 64, 5)         4005      \n",
            "                                                                 \n",
            "=================================================================\n",
            "Total params: 237125 (926.27 KB)\n",
            "Trainable params: 25632 (100.12 KB)\n",
            "Non-trainable params: 211493 (826.14 KB)\n",
            "_________________________________________________________________\n"
          ]
        },
        {
          "output_type": "stream",
          "name": "stderr",
          "text": [
            "WARNING:absl:`lr` is deprecated in Keras optimizer, please use `learning_rate` or use the legacy optimizer, e.g.,tf.keras.optimizers.legacy.Adam.\n"
          ]
        },
        {
          "output_type": "stream",
          "name": "stdout",
          "text": [
            "None\n",
            "[0.00020439 0.00019239 0.00018786 0.00018489 0.00018215 0.0001798\n",
            " 0.00017797 0.00017597 0.00017446 0.0001729  0.00017152 0.00017031\n",
            " 0.00016916 0.00016831 0.00016734 0.00016632 0.00016557 0.00016501\n",
            " 0.00016405 0.00016332 0.00016265 0.0001622  0.00016152 0.0001609\n",
            " 0.0001604  0.0001599  0.0001594  0.0001593  0.00015857 0.00015818\n",
            " 0.00015779 0.00015729 0.00015701 0.0001565  0.00015617 0.0001559\n",
            " 0.00015551 0.0001552  0.00015499 0.00015471 0.00015428 0.00015379\n",
            " 0.0001537  0.00015336 0.00015315 0.00015286 0.00015273 0.0001526\n",
            " 0.00015211 0.00015187]\n",
            "2/2 [==============================] - 0s 12ms/step\n",
            "Finish Initialization\n",
            "(160, 64, 64, 3)\n",
            "Memory taken by training input:\n",
            "7864320\n",
            "Memory taken by training output:\n",
            "(160, 64, 64, 5)\n",
            "13107200\n",
            "Memory taken by validation input:\n",
            "2015232\n",
            "Memory taken by validation output:\n",
            "(160, 64, 64, 5)\n",
            "3358720\n"
          ]
        },
        {
          "output_type": "stream",
          "name": "stderr",
          "text": [
            "WARNING:absl:`lr` is deprecated in Keras optimizer, please use `learning_rate` or use the legacy optimizer, e.g.,tf.keras.optimizers.legacy.Adam.\n"
          ]
        },
        {
          "output_type": "stream",
          "name": "stdout",
          "text": [
            "Model: \"sequential\"\n",
            "_________________________________________________________________\n",
            " Layer (type)                Output Shape              Param #   \n",
            "=================================================================\n",
            " conv2d (Conv2D)             (None, 64, 64, 32)        2432      \n",
            "                                                                 \n",
            " conv2d_1 (Conv2D)           (None, 64, 64, 32)        25632     \n",
            "                                                                 \n",
            " conv2d_2 (Conv2D)           (None, 64, 64, 32)        25632     \n",
            "                                                                 \n",
            " conv2d_3 (Conv2D)           (None, 64, 64, 32)        25632     \n",
            "                                                                 \n",
            " conv2d_4 (Conv2D)           (None, 64, 64, 32)        25632     \n",
            "                                                                 \n",
            " conv2d_5 (Conv2D)           (None, 64, 64, 32)        25632     \n",
            "                                                                 \n",
            " conv2d_6 (Conv2D)           (None, 64, 64, 32)        25632     \n",
            "                                                                 \n",
            " conv2d_7 (Conv2D)           (None, 64, 64, 32)        25632     \n",
            "                                                                 \n",
            " conv2d_8 (Conv2D)           (None, 64, 64, 32)        25632     \n",
            "                                                                 \n",
            " conv2d_9 (Conv2D)           (None, 64, 64, 32)        25632     \n",
            "                                                                 \n",
            " conv2d_10 (Conv2D)          (None, 64, 64, 5)         4005      \n",
            "                                                                 \n",
            "=================================================================\n",
            "Total params: 237125 (926.27 KB)\n",
            "Trainable params: 25632 (100.12 KB)\n",
            "Non-trainable params: 211493 (826.14 KB)\n",
            "_________________________________________________________________\n"
          ]
        },
        {
          "output_type": "stream",
          "name": "stderr",
          "text": [
            "WARNING:absl:`lr` is deprecated in Keras optimizer, please use `learning_rate` or use the legacy optimizer, e.g.,tf.keras.optimizers.legacy.Adam.\n"
          ]
        },
        {
          "output_type": "stream",
          "name": "stdout",
          "text": [
            "None\n",
            "[0.00019675 0.00018814 0.00018348 0.00018052 0.00017829 0.0001761\n",
            " 0.00017435 0.00017258 0.00017124 0.00016973 0.00016826 0.00016707\n",
            " 0.00016589 0.00016498 0.000164   0.00016305 0.00016208 0.00016134\n",
            " 0.00016046 0.00015966 0.00015873 0.00015818 0.00015738 0.00015706\n",
            " 0.0001568  0.00015581 0.00015536 0.00015497 0.00015432 0.00015369\n",
            " 0.00015321 0.00015267 0.00015215 0.00015168 0.00015128 0.00015116\n",
            " 0.00015048 0.00014988 0.00014953 0.00014906 0.00014874 0.00014844\n",
            " 0.0001483  0.000148   0.00014727 0.00014695 0.00014682 0.00014647\n",
            " 0.00014611 0.00014555]\n"
          ]
        },
        {
          "output_type": "stream",
          "name": "stderr",
          "text": [
            "WARNING:tensorflow:Detecting that an object or model or tf.train.Checkpoint is being deleted with unrestored values. See the following logs for the specific values in question. To silence these warnings, use `status.expect_partial()`. See https://www.tensorflow.org/api_docs/python/tf/train/Checkpoint#restorefor details about the status object returned by the restore function.\n",
            "WARNING:tensorflow:Value in checkpoint could not be found in the restored object: (root).optimizer._variables.1\n",
            "WARNING:tensorflow:Value in checkpoint could not be found in the restored object: (root).optimizer._variables.2\n",
            "WARNING:tensorflow:Value in checkpoint could not be found in the restored object: (root).optimizer._variables.3\n",
            "WARNING:tensorflow:Value in checkpoint could not be found in the restored object: (root).optimizer._variables.4\n",
            "WARNING:tensorflow:Value in checkpoint could not be found in the restored object: (root).optimizer._variables.5\n",
            "WARNING:tensorflow:Value in checkpoint could not be found in the restored object: (root).optimizer._variables.6\n",
            "WARNING:tensorflow:Value in checkpoint could not be found in the restored object: (root).optimizer._variables.7\n",
            "WARNING:tensorflow:Value in checkpoint could not be found in the restored object: (root).optimizer._variables.8\n",
            "WARNING:tensorflow:Value in checkpoint could not be found in the restored object: (root).optimizer._variables.9\n",
            "WARNING:tensorflow:Value in checkpoint could not be found in the restored object: (root).optimizer._variables.10\n",
            "WARNING:tensorflow:Value in checkpoint could not be found in the restored object: (root).optimizer._variables.11\n",
            "WARNING:tensorflow:Value in checkpoint could not be found in the restored object: (root).optimizer._variables.12\n",
            "WARNING:tensorflow:Value in checkpoint could not be found in the restored object: (root).optimizer._variables.13\n",
            "WARNING:tensorflow:Value in checkpoint could not be found in the restored object: (root).optimizer._variables.14\n",
            "WARNING:tensorflow:Value in checkpoint could not be found in the restored object: (root).optimizer._variables.15\n",
            "WARNING:tensorflow:Value in checkpoint could not be found in the restored object: (root).optimizer._variables.16\n",
            "WARNING:tensorflow:Value in checkpoint could not be found in the restored object: (root).optimizer._variables.17\n",
            "WARNING:tensorflow:Value in checkpoint could not be found in the restored object: (root).optimizer._variables.18\n",
            "WARNING:tensorflow:Value in checkpoint could not be found in the restored object: (root).optimizer._variables.19\n",
            "WARNING:tensorflow:Value in checkpoint could not be found in the restored object: (root).optimizer._variables.20\n",
            "WARNING:tensorflow:Value in checkpoint could not be found in the restored object: (root).optimizer._variables.21\n",
            "WARNING:tensorflow:Value in checkpoint could not be found in the restored object: (root).optimizer._variables.22\n",
            "WARNING:tensorflow:Value in checkpoint could not be found in the restored object: (root).optimizer._variables.23\n",
            "WARNING:tensorflow:Value in checkpoint could not be found in the restored object: (root).optimizer._variables.24\n",
            "WARNING:tensorflow:Value in checkpoint could not be found in the restored object: (root).optimizer._variables.25\n",
            "WARNING:tensorflow:Value in checkpoint could not be found in the restored object: (root).optimizer._variables.26\n",
            "WARNING:tensorflow:Value in checkpoint could not be found in the restored object: (root).optimizer._variables.27\n",
            "WARNING:tensorflow:Value in checkpoint could not be found in the restored object: (root).optimizer._variables.28\n",
            "WARNING:tensorflow:Value in checkpoint could not be found in the restored object: (root).optimizer._variables.29\n",
            "WARNING:tensorflow:Value in checkpoint could not be found in the restored object: (root).optimizer._variables.30\n",
            "WARNING:tensorflow:Value in checkpoint could not be found in the restored object: (root).optimizer._variables.31\n",
            "WARNING:tensorflow:Value in checkpoint could not be found in the restored object: (root).optimizer._variables.32\n",
            "WARNING:tensorflow:Value in checkpoint could not be found in the restored object: (root).optimizer._variables.33\n",
            "WARNING:tensorflow:Value in checkpoint could not be found in the restored object: (root).optimizer._variables.34\n",
            "WARNING:tensorflow:Value in checkpoint could not be found in the restored object: (root).optimizer._variables.35\n",
            "WARNING:tensorflow:Value in checkpoint could not be found in the restored object: (root).optimizer._variables.36\n",
            "WARNING:tensorflow:Value in checkpoint could not be found in the restored object: (root).optimizer._variables.37\n",
            "WARNING:tensorflow:Value in checkpoint could not be found in the restored object: (root).optimizer._variables.38\n",
            "WARNING:tensorflow:Value in checkpoint could not be found in the restored object: (root).optimizer._variables.39\n",
            "WARNING:tensorflow:Value in checkpoint could not be found in the restored object: (root).optimizer._variables.40\n",
            "WARNING:tensorflow:Value in checkpoint could not be found in the restored object: (root).optimizer._variables.41\n",
            "WARNING:tensorflow:Value in checkpoint could not be found in the restored object: (root).optimizer._variables.42\n",
            "WARNING:tensorflow:Value in checkpoint could not be found in the restored object: (root).optimizer._variables.43\n",
            "WARNING:tensorflow:Value in checkpoint could not be found in the restored object: (root).optimizer._variables.44\n",
            "WARNING:tensorflow:Value in checkpoint could not be found in the restored object: (root).keras_api.metrics.0.total\n",
            "WARNING:tensorflow:Value in checkpoint could not be found in the restored object: (root).keras_api.metrics.0.count\n",
            "WARNING:tensorflow:Detecting that an object or model or tf.train.Checkpoint is being deleted with unrestored values. See the following logs for the specific values in question. To silence these warnings, use `status.expect_partial()`. See https://www.tensorflow.org/api_docs/python/tf/train/Checkpoint#restorefor details about the status object returned by the restore function.\n",
            "WARNING:tensorflow:Value in checkpoint could not be found in the restored object: (root).optimizer._variables.1\n",
            "WARNING:tensorflow:Value in checkpoint could not be found in the restored object: (root).optimizer._variables.2\n",
            "WARNING:tensorflow:Value in checkpoint could not be found in the restored object: (root).optimizer._variables.3\n",
            "WARNING:tensorflow:Value in checkpoint could not be found in the restored object: (root).optimizer._variables.4\n",
            "WARNING:tensorflow:Value in checkpoint could not be found in the restored object: (root).optimizer._variables.5\n",
            "WARNING:tensorflow:Value in checkpoint could not be found in the restored object: (root).optimizer._variables.6\n",
            "WARNING:tensorflow:Value in checkpoint could not be found in the restored object: (root).optimizer._variables.7\n",
            "WARNING:tensorflow:Value in checkpoint could not be found in the restored object: (root).optimizer._variables.8\n",
            "WARNING:tensorflow:Value in checkpoint could not be found in the restored object: (root).optimizer._variables.9\n",
            "WARNING:tensorflow:Value in checkpoint could not be found in the restored object: (root).optimizer._variables.10\n",
            "WARNING:tensorflow:Value in checkpoint could not be found in the restored object: (root).optimizer._variables.11\n",
            "WARNING:tensorflow:Value in checkpoint could not be found in the restored object: (root).optimizer._variables.12\n",
            "WARNING:tensorflow:Value in checkpoint could not be found in the restored object: (root).optimizer._variables.13\n",
            "WARNING:tensorflow:Value in checkpoint could not be found in the restored object: (root).optimizer._variables.14\n",
            "WARNING:tensorflow:Value in checkpoint could not be found in the restored object: (root).optimizer._variables.15\n",
            "WARNING:tensorflow:Value in checkpoint could not be found in the restored object: (root).optimizer._variables.16\n",
            "WARNING:tensorflow:Value in checkpoint could not be found in the restored object: (root).optimizer._variables.17\n",
            "WARNING:tensorflow:Value in checkpoint could not be found in the restored object: (root).optimizer._variables.18\n",
            "WARNING:tensorflow:Value in checkpoint could not be found in the restored object: (root).optimizer._variables.19\n",
            "WARNING:tensorflow:Value in checkpoint could not be found in the restored object: (root).optimizer._variables.20\n",
            "WARNING:tensorflow:Value in checkpoint could not be found in the restored object: (root).optimizer._variables.21\n",
            "WARNING:tensorflow:Value in checkpoint could not be found in the restored object: (root).optimizer._variables.22\n",
            "WARNING:tensorflow:Value in checkpoint could not be found in the restored object: (root).optimizer._variables.23\n",
            "WARNING:tensorflow:Value in checkpoint could not be found in the restored object: (root).optimizer._variables.24\n",
            "WARNING:tensorflow:Value in checkpoint could not be found in the restored object: (root).optimizer._variables.25\n",
            "WARNING:tensorflow:Value in checkpoint could not be found in the restored object: (root).optimizer._variables.26\n",
            "WARNING:tensorflow:Value in checkpoint could not be found in the restored object: (root).optimizer._variables.27\n",
            "WARNING:tensorflow:Value in checkpoint could not be found in the restored object: (root).optimizer._variables.28\n",
            "WARNING:tensorflow:Value in checkpoint could not be found in the restored object: (root).optimizer._variables.29\n",
            "WARNING:tensorflow:Value in checkpoint could not be found in the restored object: (root).optimizer._variables.30\n",
            "WARNING:tensorflow:Value in checkpoint could not be found in the restored object: (root).optimizer._variables.31\n",
            "WARNING:tensorflow:Value in checkpoint could not be found in the restored object: (root).optimizer._variables.32\n",
            "WARNING:tensorflow:Value in checkpoint could not be found in the restored object: (root).optimizer._variables.33\n",
            "WARNING:tensorflow:Value in checkpoint could not be found in the restored object: (root).optimizer._variables.34\n",
            "WARNING:tensorflow:Value in checkpoint could not be found in the restored object: (root).optimizer._variables.35\n",
            "WARNING:tensorflow:Value in checkpoint could not be found in the restored object: (root).optimizer._variables.36\n",
            "WARNING:tensorflow:Value in checkpoint could not be found in the restored object: (root).optimizer._variables.37\n",
            "WARNING:tensorflow:Value in checkpoint could not be found in the restored object: (root).optimizer._variables.38\n",
            "WARNING:tensorflow:Value in checkpoint could not be found in the restored object: (root).optimizer._variables.39\n",
            "WARNING:tensorflow:Value in checkpoint could not be found in the restored object: (root).optimizer._variables.40\n",
            "WARNING:tensorflow:Value in checkpoint could not be found in the restored object: (root).optimizer._variables.41\n",
            "WARNING:tensorflow:Value in checkpoint could not be found in the restored object: (root).optimizer._variables.42\n",
            "WARNING:tensorflow:Value in checkpoint could not be found in the restored object: (root).optimizer._variables.43\n",
            "WARNING:tensorflow:Value in checkpoint could not be found in the restored object: (root).optimizer._variables.44\n",
            "WARNING:tensorflow:Value in checkpoint could not be found in the restored object: (root).keras_api.metrics.0.total\n",
            "WARNING:tensorflow:Value in checkpoint could not be found in the restored object: (root).keras_api.metrics.0.count\n",
            "WARNING:tensorflow:Detecting that an object or model or tf.train.Checkpoint is being deleted with unrestored values. See the following logs for the specific values in question. To silence these warnings, use `status.expect_partial()`. See https://www.tensorflow.org/api_docs/python/tf/train/Checkpoint#restorefor details about the status object returned by the restore function.\n",
            "WARNING:tensorflow:Value in checkpoint could not be found in the restored object: (root).optimizer._variables.1\n",
            "WARNING:tensorflow:Value in checkpoint could not be found in the restored object: (root).optimizer._variables.2\n",
            "WARNING:tensorflow:Value in checkpoint could not be found in the restored object: (root).optimizer._variables.3\n",
            "WARNING:tensorflow:Value in checkpoint could not be found in the restored object: (root).optimizer._variables.4\n",
            "WARNING:tensorflow:Value in checkpoint could not be found in the restored object: (root).optimizer._variables.5\n",
            "WARNING:tensorflow:Value in checkpoint could not be found in the restored object: (root).optimizer._variables.6\n",
            "WARNING:tensorflow:Value in checkpoint could not be found in the restored object: (root).optimizer._variables.7\n",
            "WARNING:tensorflow:Value in checkpoint could not be found in the restored object: (root).optimizer._variables.8\n",
            "WARNING:tensorflow:Value in checkpoint could not be found in the restored object: (root).optimizer._variables.9\n",
            "WARNING:tensorflow:Value in checkpoint could not be found in the restored object: (root).optimizer._variables.10\n",
            "WARNING:tensorflow:Value in checkpoint could not be found in the restored object: (root).optimizer._variables.11\n",
            "WARNING:tensorflow:Value in checkpoint could not be found in the restored object: (root).optimizer._variables.12\n",
            "WARNING:tensorflow:Value in checkpoint could not be found in the restored object: (root).optimizer._variables.13\n",
            "WARNING:tensorflow:Value in checkpoint could not be found in the restored object: (root).optimizer._variables.14\n",
            "WARNING:tensorflow:Value in checkpoint could not be found in the restored object: (root).optimizer._variables.15\n",
            "WARNING:tensorflow:Value in checkpoint could not be found in the restored object: (root).optimizer._variables.16\n",
            "WARNING:tensorflow:Value in checkpoint could not be found in the restored object: (root).optimizer._variables.17\n",
            "WARNING:tensorflow:Value in checkpoint could not be found in the restored object: (root).optimizer._variables.18\n",
            "WARNING:tensorflow:Value in checkpoint could not be found in the restored object: (root).optimizer._variables.19\n",
            "WARNING:tensorflow:Value in checkpoint could not be found in the restored object: (root).optimizer._variables.20\n",
            "WARNING:tensorflow:Value in checkpoint could not be found in the restored object: (root).optimizer._variables.21\n",
            "WARNING:tensorflow:Value in checkpoint could not be found in the restored object: (root).optimizer._variables.22\n",
            "WARNING:tensorflow:Value in checkpoint could not be found in the restored object: (root).optimizer._variables.23\n",
            "WARNING:tensorflow:Value in checkpoint could not be found in the restored object: (root).optimizer._variables.24\n",
            "WARNING:tensorflow:Value in checkpoint could not be found in the restored object: (root).optimizer._variables.25\n",
            "WARNING:tensorflow:Value in checkpoint could not be found in the restored object: (root).optimizer._variables.26\n",
            "WARNING:tensorflow:Value in checkpoint could not be found in the restored object: (root).optimizer._variables.27\n",
            "WARNING:tensorflow:Value in checkpoint could not be found in the restored object: (root).optimizer._variables.28\n",
            "WARNING:tensorflow:Value in checkpoint could not be found in the restored object: (root).optimizer._variables.29\n",
            "WARNING:tensorflow:Value in checkpoint could not be found in the restored object: (root).optimizer._variables.30\n",
            "WARNING:tensorflow:Value in checkpoint could not be found in the restored object: (root).optimizer._variables.31\n",
            "WARNING:tensorflow:Value in checkpoint could not be found in the restored object: (root).optimizer._variables.32\n",
            "WARNING:tensorflow:Value in checkpoint could not be found in the restored object: (root).optimizer._variables.33\n",
            "WARNING:tensorflow:Value in checkpoint could not be found in the restored object: (root).optimizer._variables.34\n",
            "WARNING:tensorflow:Value in checkpoint could not be found in the restored object: (root).optimizer._variables.35\n",
            "WARNING:tensorflow:Value in checkpoint could not be found in the restored object: (root).optimizer._variables.36\n",
            "WARNING:tensorflow:Value in checkpoint could not be found in the restored object: (root).optimizer._variables.37\n",
            "WARNING:tensorflow:Value in checkpoint could not be found in the restored object: (root).optimizer._variables.38\n",
            "WARNING:tensorflow:Value in checkpoint could not be found in the restored object: (root).optimizer._variables.39\n",
            "WARNING:tensorflow:Value in checkpoint could not be found in the restored object: (root).optimizer._variables.40\n",
            "WARNING:tensorflow:Value in checkpoint could not be found in the restored object: (root).optimizer._variables.41\n",
            "WARNING:tensorflow:Value in checkpoint could not be found in the restored object: (root).optimizer._variables.42\n",
            "WARNING:tensorflow:Value in checkpoint could not be found in the restored object: (root).optimizer._variables.43\n",
            "WARNING:tensorflow:Value in checkpoint could not be found in the restored object: (root).optimizer._variables.44\n",
            "WARNING:tensorflow:Value in checkpoint could not be found in the restored object: (root).keras_api.metrics.0.total\n",
            "WARNING:tensorflow:Value in checkpoint could not be found in the restored object: (root).keras_api.metrics.0.count\n"
          ]
        },
        {
          "output_type": "stream",
          "name": "stdout",
          "text": [
            "2/2 [==============================] - 0s 17ms/step\n",
            "Finish Initialization\n",
            "(160, 64, 64, 3)\n",
            "Memory taken by training input:\n",
            "7864320\n",
            "Memory taken by training output:\n",
            "(160, 64, 64, 5)\n",
            "13107200\n",
            "Memory taken by validation input:\n",
            "2015232\n",
            "Memory taken by validation output:\n",
            "(160, 64, 64, 5)\n",
            "3358720\n"
          ]
        },
        {
          "output_type": "stream",
          "name": "stderr",
          "text": [
            "WARNING:absl:`lr` is deprecated in Keras optimizer, please use `learning_rate` or use the legacy optimizer, e.g.,tf.keras.optimizers.legacy.Adam.\n"
          ]
        },
        {
          "output_type": "stream",
          "name": "stdout",
          "text": [
            "Model: \"sequential\"\n",
            "_________________________________________________________________\n",
            " Layer (type)                Output Shape              Param #   \n",
            "=================================================================\n",
            " conv2d (Conv2D)             (None, 64, 64, 32)        2432      \n",
            "                                                                 \n",
            " conv2d_1 (Conv2D)           (None, 64, 64, 32)        25632     \n",
            "                                                                 \n",
            " conv2d_2 (Conv2D)           (None, 64, 64, 32)        25632     \n",
            "                                                                 \n",
            " conv2d_3 (Conv2D)           (None, 64, 64, 32)        25632     \n",
            "                                                                 \n",
            " conv2d_4 (Conv2D)           (None, 64, 64, 32)        25632     \n",
            "                                                                 \n",
            " conv2d_5 (Conv2D)           (None, 64, 64, 32)        25632     \n",
            "                                                                 \n",
            " conv2d_6 (Conv2D)           (None, 64, 64, 32)        25632     \n",
            "                                                                 \n",
            " conv2d_7 (Conv2D)           (None, 64, 64, 32)        25632     \n",
            "                                                                 \n",
            " conv2d_8 (Conv2D)           (None, 64, 64, 32)        25632     \n",
            "                                                                 \n",
            " conv2d_9 (Conv2D)           (None, 64, 64, 32)        25632     \n",
            "                                                                 \n",
            " conv2d_10 (Conv2D)          (None, 64, 64, 5)         4005      \n",
            "                                                                 \n",
            "=================================================================\n",
            "Total params: 237125 (926.27 KB)\n",
            "Trainable params: 25632 (100.12 KB)\n",
            "Non-trainable params: 211493 (826.14 KB)\n",
            "_________________________________________________________________\n"
          ]
        },
        {
          "output_type": "stream",
          "name": "stderr",
          "text": [
            "WARNING:absl:`lr` is deprecated in Keras optimizer, please use `learning_rate` or use the legacy optimizer, e.g.,tf.keras.optimizers.legacy.Adam.\n"
          ]
        },
        {
          "output_type": "stream",
          "name": "stdout",
          "text": [
            "None\n",
            "[0.00019725 0.00018322 0.00017615 0.00017151 0.00016824 0.00016546\n",
            " 0.00016336 0.00016127 0.0001596  0.00015787 0.00015673 0.00015516\n",
            " 0.00015396 0.00015263 0.00015155 0.00015061 0.00014968 0.00014859\n",
            " 0.0001478  0.00014683 0.000146   0.00014511 0.00014439 0.00014377\n",
            " 0.00014294 0.00014228 0.00014139 0.00014084 0.0001401  0.0001395\n",
            " 0.0001389  0.00013844 0.00013778 0.0001371  0.00013683 0.00013626\n",
            " 0.00013567 0.00013516 0.00013476 0.00013445 0.00013429 0.00013352\n",
            " 0.00013347 0.000133   0.0001325  0.00013236 0.00013194 0.00013184\n",
            " 0.00013119 0.00013087]\n"
          ]
        },
        {
          "output_type": "stream",
          "name": "stderr",
          "text": [
            "WARNING:tensorflow:5 out of the last 9 calls to <function Model.make_predict_function.<locals>.predict_function at 0x7e366c19c670> triggered tf.function retracing. Tracing is expensive and the excessive number of tracings could be due to (1) creating @tf.function repeatedly in a loop, (2) passing tensors with different shapes, (3) passing Python objects instead of tensors. For (1), please define your @tf.function outside of the loop. For (2), @tf.function has reduce_retracing=True option that can avoid unnecessary retracing. For (3), please refer to https://www.tensorflow.org/guide/function#controlling_retracing and https://www.tensorflow.org/api_docs/python/tf/function for  more details.\n"
          ]
        },
        {
          "output_type": "stream",
          "name": "stdout",
          "text": [
            "2/2 [==============================] - 0s 17ms/step\n",
            "Finish Initialization\n",
            "(160, 64, 64, 3)\n",
            "Memory taken by training input:\n",
            "7864320\n",
            "Memory taken by training output:\n",
            "(160, 64, 64, 5)\n",
            "13107200\n",
            "Memory taken by validation input:\n",
            "2015232\n",
            "Memory taken by validation output:\n",
            "(160, 64, 64, 5)\n",
            "3358720\n"
          ]
        },
        {
          "output_type": "stream",
          "name": "stderr",
          "text": [
            "WARNING:absl:`lr` is deprecated in Keras optimizer, please use `learning_rate` or use the legacy optimizer, e.g.,tf.keras.optimizers.legacy.Adam.\n"
          ]
        },
        {
          "output_type": "stream",
          "name": "stdout",
          "text": [
            "Model: \"sequential\"\n",
            "_________________________________________________________________\n",
            " Layer (type)                Output Shape              Param #   \n",
            "=================================================================\n",
            " conv2d (Conv2D)             (None, 64, 64, 32)        2432      \n",
            "                                                                 \n",
            " conv2d_1 (Conv2D)           (None, 64, 64, 32)        25632     \n",
            "                                                                 \n",
            " conv2d_2 (Conv2D)           (None, 64, 64, 32)        25632     \n",
            "                                                                 \n",
            " conv2d_3 (Conv2D)           (None, 64, 64, 32)        25632     \n",
            "                                                                 \n",
            " conv2d_4 (Conv2D)           (None, 64, 64, 32)        25632     \n",
            "                                                                 \n",
            " conv2d_5 (Conv2D)           (None, 64, 64, 32)        25632     \n",
            "                                                                 \n",
            " conv2d_6 (Conv2D)           (None, 64, 64, 32)        25632     \n",
            "                                                                 \n",
            " conv2d_7 (Conv2D)           (None, 64, 64, 32)        25632     \n",
            "                                                                 \n",
            " conv2d_8 (Conv2D)           (None, 64, 64, 32)        25632     \n",
            "                                                                 \n",
            " conv2d_9 (Conv2D)           (None, 64, 64, 32)        25632     \n",
            "                                                                 \n",
            " conv2d_10 (Conv2D)          (None, 64, 64, 5)         4005      \n",
            "                                                                 \n",
            "=================================================================\n",
            "Total params: 237125 (926.27 KB)\n",
            "Trainable params: 25632 (100.12 KB)\n",
            "Non-trainable params: 211493 (826.14 KB)\n",
            "_________________________________________________________________\n"
          ]
        },
        {
          "output_type": "stream",
          "name": "stderr",
          "text": [
            "WARNING:absl:`lr` is deprecated in Keras optimizer, please use `learning_rate` or use the legacy optimizer, e.g.,tf.keras.optimizers.legacy.Adam.\n"
          ]
        },
        {
          "output_type": "stream",
          "name": "stdout",
          "text": [
            "None\n",
            "[0.00018629 0.00017649 0.00016946 0.00016474 0.00016052 0.00015626\n",
            " 0.00015383 0.00015128 0.00014921 0.00014739 0.00014567 0.00014436\n",
            " 0.00014275 0.00014156 0.00014008 0.00013884 0.00013779 0.00013696\n",
            " 0.00013609 0.00013515 0.00013429 0.00013382 0.00013302 0.00013263\n",
            " 0.00013178 0.00013127 0.00013047 0.00013003 0.00012945 0.00012897\n",
            " 0.00012853 0.00012785 0.00012777 0.00012702 0.00012662 0.00012638\n",
            " 0.00012563 0.00012519 0.00012472 0.00012445 0.00012432 0.00012393\n",
            " 0.0001236  0.00012306 0.00012254 0.00012241 0.00012208 0.00012229\n",
            " 0.00012198 0.00012203]\n"
          ]
        },
        {
          "output_type": "stream",
          "name": "stderr",
          "text": [
            "WARNING:tensorflow:6 out of the last 11 calls to <function Model.make_predict_function.<locals>.predict_function at 0x7e366c175870> triggered tf.function retracing. Tracing is expensive and the excessive number of tracings could be due to (1) creating @tf.function repeatedly in a loop, (2) passing tensors with different shapes, (3) passing Python objects instead of tensors. For (1), please define your @tf.function outside of the loop. For (2), @tf.function has reduce_retracing=True option that can avoid unnecessary retracing. For (3), please refer to https://www.tensorflow.org/guide/function#controlling_retracing and https://www.tensorflow.org/api_docs/python/tf/function for  more details.\n"
          ]
        },
        {
          "output_type": "stream",
          "name": "stdout",
          "text": [
            "2/2 [==============================] - 0s 14ms/step\n",
            "Finish Initialization\n",
            "(160, 64, 64, 3)\n",
            "Memory taken by training input:\n",
            "7864320\n",
            "Memory taken by training output:\n",
            "(160, 64, 64, 5)\n",
            "13107200\n",
            "Memory taken by validation input:\n",
            "2015232\n",
            "Memory taken by validation output:\n",
            "(160, 64, 64, 5)\n",
            "3358720\n"
          ]
        },
        {
          "output_type": "stream",
          "name": "stderr",
          "text": [
            "WARNING:absl:`lr` is deprecated in Keras optimizer, please use `learning_rate` or use the legacy optimizer, e.g.,tf.keras.optimizers.legacy.Adam.\n"
          ]
        },
        {
          "output_type": "stream",
          "name": "stdout",
          "text": [
            "Model: \"sequential\"\n",
            "_________________________________________________________________\n",
            " Layer (type)                Output Shape              Param #   \n",
            "=================================================================\n",
            " conv2d (Conv2D)             (None, 64, 64, 32)        2432      \n",
            "                                                                 \n",
            " conv2d_1 (Conv2D)           (None, 64, 64, 32)        25632     \n",
            "                                                                 \n",
            " conv2d_2 (Conv2D)           (None, 64, 64, 32)        25632     \n",
            "                                                                 \n",
            " conv2d_3 (Conv2D)           (None, 64, 64, 32)        25632     \n",
            "                                                                 \n",
            " conv2d_4 (Conv2D)           (None, 64, 64, 32)        25632     \n",
            "                                                                 \n",
            " conv2d_5 (Conv2D)           (None, 64, 64, 32)        25632     \n",
            "                                                                 \n",
            " conv2d_6 (Conv2D)           (None, 64, 64, 32)        25632     \n",
            "                                                                 \n",
            " conv2d_7 (Conv2D)           (None, 64, 64, 32)        25632     \n",
            "                                                                 \n",
            " conv2d_8 (Conv2D)           (None, 64, 64, 32)        25632     \n",
            "                                                                 \n",
            " conv2d_9 (Conv2D)           (None, 64, 64, 32)        25632     \n",
            "                                                                 \n",
            " conv2d_10 (Conv2D)          (None, 64, 64, 5)         4005      \n",
            "                                                                 \n",
            "=================================================================\n",
            "Total params: 237125 (926.27 KB)\n",
            "Trainable params: 25632 (100.12 KB)\n",
            "Non-trainable params: 211493 (826.14 KB)\n",
            "_________________________________________________________________\n"
          ]
        },
        {
          "output_type": "stream",
          "name": "stderr",
          "text": [
            "WARNING:absl:`lr` is deprecated in Keras optimizer, please use `learning_rate` or use the legacy optimizer, e.g.,tf.keras.optimizers.legacy.Adam.\n"
          ]
        },
        {
          "output_type": "stream",
          "name": "stdout",
          "text": [
            "None\n",
            "[0.00018833 0.00017637 0.00016959 0.00016363 0.00015898 0.00015511\n",
            " 0.00015207 0.00014882 0.00014596 0.00014401 0.00014184 0.00014005\n",
            " 0.00013825 0.00013685 0.00013555 0.00013442 0.00013334 0.00013229\n",
            " 0.00013105 0.00013006 0.00012919 0.00012852 0.00012775 0.00012675\n",
            " 0.00012645 0.00012538 0.00012459 0.00012434 0.00012334 0.00012277\n",
            " 0.00012202 0.00012122 0.00012081 0.00012011 0.00011969 0.00011905\n",
            " 0.00011862 0.00011819 0.00011754 0.00011755 0.00011687 0.0001164\n",
            " 0.00011606 0.00011568 0.00011522 0.00011523 0.00011478 0.00011469\n",
            " 0.00011367 0.00011344]\n",
            "2/2 [==============================] - 0s 13ms/step\n",
            "Finish Initialization\n",
            "(160, 64, 64, 3)\n",
            "Memory taken by training input:\n",
            "7864320\n",
            "Memory taken by training output:\n",
            "(160, 64, 64, 5)\n",
            "13107200\n",
            "Memory taken by validation input:\n",
            "2015232\n",
            "Memory taken by validation output:\n",
            "(160, 64, 64, 5)\n",
            "3358720\n"
          ]
        },
        {
          "output_type": "stream",
          "name": "stderr",
          "text": [
            "WARNING:absl:`lr` is deprecated in Keras optimizer, please use `learning_rate` or use the legacy optimizer, e.g.,tf.keras.optimizers.legacy.Adam.\n"
          ]
        },
        {
          "output_type": "stream",
          "name": "stdout",
          "text": [
            "Model: \"sequential\"\n",
            "_________________________________________________________________\n",
            " Layer (type)                Output Shape              Param #   \n",
            "=================================================================\n",
            " conv2d (Conv2D)             (None, 64, 64, 32)        2432      \n",
            "                                                                 \n",
            " conv2d_1 (Conv2D)           (None, 64, 64, 32)        25632     \n",
            "                                                                 \n",
            " conv2d_2 (Conv2D)           (None, 64, 64, 32)        25632     \n",
            "                                                                 \n",
            " conv2d_3 (Conv2D)           (None, 64, 64, 32)        25632     \n",
            "                                                                 \n",
            " conv2d_4 (Conv2D)           (None, 64, 64, 32)        25632     \n",
            "                                                                 \n",
            " conv2d_5 (Conv2D)           (None, 64, 64, 32)        25632     \n",
            "                                                                 \n",
            " conv2d_6 (Conv2D)           (None, 64, 64, 32)        25632     \n",
            "                                                                 \n",
            " conv2d_7 (Conv2D)           (None, 64, 64, 32)        25632     \n",
            "                                                                 \n",
            " conv2d_8 (Conv2D)           (None, 64, 64, 32)        25632     \n",
            "                                                                 \n",
            " conv2d_9 (Conv2D)           (None, 64, 64, 32)        25632     \n",
            "                                                                 \n",
            " conv2d_10 (Conv2D)          (None, 64, 64, 5)         4005      \n",
            "                                                                 \n",
            "=================================================================\n",
            "Total params: 237125 (926.27 KB)\n",
            "Trainable params: 25632 (100.12 KB)\n",
            "Non-trainable params: 211493 (826.14 KB)\n",
            "_________________________________________________________________\n"
          ]
        },
        {
          "output_type": "stream",
          "name": "stderr",
          "text": [
            "WARNING:absl:`lr` is deprecated in Keras optimizer, please use `learning_rate` or use the legacy optimizer, e.g.,tf.keras.optimizers.legacy.Adam.\n"
          ]
        },
        {
          "output_type": "stream",
          "name": "stdout",
          "text": [
            "None\n",
            "[0.00018531 0.00017109 0.00016216 0.00015547 0.00015024 0.0001457\n",
            " 0.00014211 0.00013873 0.00013599 0.00013374 0.00013177 0.00012971\n",
            " 0.00012788 0.00012646 0.00012492 0.00012376 0.00012256 0.00012134\n",
            " 0.00012028 0.00011962 0.00011861 0.00011748 0.0001168  0.00011607\n",
            " 0.00011573 0.00011512 0.00011402 0.00011371 0.00011291 0.00011259\n",
            " 0.00011191 0.00011137 0.00011076 0.00011059 0.00010993 0.00010998\n",
            " 0.00010923 0.00010886 0.00010837 0.00010833 0.00010814 0.00010746\n",
            " 0.00010683 0.00010642 0.0001062  0.00010582 0.00010553 0.00010565\n",
            " 0.00010508 0.00010464]\n"
          ]
        },
        {
          "output_type": "stream",
          "name": "stderr",
          "text": [
            "WARNING:tensorflow:Detecting that an object or model or tf.train.Checkpoint is being deleted with unrestored values. See the following logs for the specific values in question. To silence these warnings, use `status.expect_partial()`. See https://www.tensorflow.org/api_docs/python/tf/train/Checkpoint#restorefor details about the status object returned by the restore function.\n",
            "WARNING:tensorflow:Value in checkpoint could not be found in the restored object: (root).optimizer._variables.1\n",
            "WARNING:tensorflow:Value in checkpoint could not be found in the restored object: (root).optimizer._variables.2\n",
            "WARNING:tensorflow:Value in checkpoint could not be found in the restored object: (root).optimizer._variables.3\n",
            "WARNING:tensorflow:Value in checkpoint could not be found in the restored object: (root).optimizer._variables.4\n",
            "WARNING:tensorflow:Value in checkpoint could not be found in the restored object: (root).optimizer._variables.5\n",
            "WARNING:tensorflow:Value in checkpoint could not be found in the restored object: (root).optimizer._variables.6\n",
            "WARNING:tensorflow:Value in checkpoint could not be found in the restored object: (root).optimizer._variables.7\n",
            "WARNING:tensorflow:Value in checkpoint could not be found in the restored object: (root).optimizer._variables.8\n",
            "WARNING:tensorflow:Value in checkpoint could not be found in the restored object: (root).optimizer._variables.9\n",
            "WARNING:tensorflow:Value in checkpoint could not be found in the restored object: (root).optimizer._variables.10\n",
            "WARNING:tensorflow:Value in checkpoint could not be found in the restored object: (root).optimizer._variables.11\n",
            "WARNING:tensorflow:Value in checkpoint could not be found in the restored object: (root).optimizer._variables.12\n",
            "WARNING:tensorflow:Value in checkpoint could not be found in the restored object: (root).optimizer._variables.13\n",
            "WARNING:tensorflow:Value in checkpoint could not be found in the restored object: (root).optimizer._variables.14\n",
            "WARNING:tensorflow:Value in checkpoint could not be found in the restored object: (root).optimizer._variables.15\n",
            "WARNING:tensorflow:Value in checkpoint could not be found in the restored object: (root).optimizer._variables.16\n",
            "WARNING:tensorflow:Value in checkpoint could not be found in the restored object: (root).optimizer._variables.17\n",
            "WARNING:tensorflow:Value in checkpoint could not be found in the restored object: (root).optimizer._variables.18\n",
            "WARNING:tensorflow:Value in checkpoint could not be found in the restored object: (root).optimizer._variables.19\n",
            "WARNING:tensorflow:Value in checkpoint could not be found in the restored object: (root).optimizer._variables.20\n",
            "WARNING:tensorflow:Value in checkpoint could not be found in the restored object: (root).optimizer._variables.21\n",
            "WARNING:tensorflow:Value in checkpoint could not be found in the restored object: (root).optimizer._variables.22\n",
            "WARNING:tensorflow:Value in checkpoint could not be found in the restored object: (root).optimizer._variables.23\n",
            "WARNING:tensorflow:Value in checkpoint could not be found in the restored object: (root).optimizer._variables.24\n",
            "WARNING:tensorflow:Value in checkpoint could not be found in the restored object: (root).optimizer._variables.25\n",
            "WARNING:tensorflow:Value in checkpoint could not be found in the restored object: (root).optimizer._variables.26\n",
            "WARNING:tensorflow:Value in checkpoint could not be found in the restored object: (root).optimizer._variables.27\n",
            "WARNING:tensorflow:Value in checkpoint could not be found in the restored object: (root).optimizer._variables.28\n",
            "WARNING:tensorflow:Value in checkpoint could not be found in the restored object: (root).optimizer._variables.29\n",
            "WARNING:tensorflow:Value in checkpoint could not be found in the restored object: (root).optimizer._variables.30\n",
            "WARNING:tensorflow:Value in checkpoint could not be found in the restored object: (root).optimizer._variables.31\n",
            "WARNING:tensorflow:Value in checkpoint could not be found in the restored object: (root).optimizer._variables.32\n",
            "WARNING:tensorflow:Value in checkpoint could not be found in the restored object: (root).optimizer._variables.33\n",
            "WARNING:tensorflow:Value in checkpoint could not be found in the restored object: (root).optimizer._variables.34\n",
            "WARNING:tensorflow:Value in checkpoint could not be found in the restored object: (root).optimizer._variables.35\n",
            "WARNING:tensorflow:Value in checkpoint could not be found in the restored object: (root).optimizer._variables.36\n",
            "WARNING:tensorflow:Value in checkpoint could not be found in the restored object: (root).optimizer._variables.37\n",
            "WARNING:tensorflow:Value in checkpoint could not be found in the restored object: (root).optimizer._variables.38\n",
            "WARNING:tensorflow:Value in checkpoint could not be found in the restored object: (root).optimizer._variables.39\n",
            "WARNING:tensorflow:Value in checkpoint could not be found in the restored object: (root).optimizer._variables.40\n",
            "WARNING:tensorflow:Value in checkpoint could not be found in the restored object: (root).optimizer._variables.41\n",
            "WARNING:tensorflow:Value in checkpoint could not be found in the restored object: (root).optimizer._variables.42\n",
            "WARNING:tensorflow:Value in checkpoint could not be found in the restored object: (root).optimizer._variables.43\n",
            "WARNING:tensorflow:Value in checkpoint could not be found in the restored object: (root).optimizer._variables.44\n",
            "WARNING:tensorflow:Value in checkpoint could not be found in the restored object: (root).keras_api.metrics.0.total\n",
            "WARNING:tensorflow:Value in checkpoint could not be found in the restored object: (root).keras_api.metrics.0.count\n",
            "WARNING:tensorflow:Detecting that an object or model or tf.train.Checkpoint is being deleted with unrestored values. See the following logs for the specific values in question. To silence these warnings, use `status.expect_partial()`. See https://www.tensorflow.org/api_docs/python/tf/train/Checkpoint#restorefor details about the status object returned by the restore function.\n",
            "WARNING:tensorflow:Value in checkpoint could not be found in the restored object: (root).optimizer._variables.1\n",
            "WARNING:tensorflow:Value in checkpoint could not be found in the restored object: (root).optimizer._variables.2\n",
            "WARNING:tensorflow:Value in checkpoint could not be found in the restored object: (root).optimizer._variables.3\n",
            "WARNING:tensorflow:Value in checkpoint could not be found in the restored object: (root).optimizer._variables.4\n",
            "WARNING:tensorflow:Value in checkpoint could not be found in the restored object: (root).optimizer._variables.5\n",
            "WARNING:tensorflow:Value in checkpoint could not be found in the restored object: (root).optimizer._variables.6\n",
            "WARNING:tensorflow:Value in checkpoint could not be found in the restored object: (root).optimizer._variables.7\n",
            "WARNING:tensorflow:Value in checkpoint could not be found in the restored object: (root).optimizer._variables.8\n",
            "WARNING:tensorflow:Value in checkpoint could not be found in the restored object: (root).optimizer._variables.9\n",
            "WARNING:tensorflow:Value in checkpoint could not be found in the restored object: (root).optimizer._variables.10\n",
            "WARNING:tensorflow:Value in checkpoint could not be found in the restored object: (root).optimizer._variables.11\n",
            "WARNING:tensorflow:Value in checkpoint could not be found in the restored object: (root).optimizer._variables.12\n",
            "WARNING:tensorflow:Value in checkpoint could not be found in the restored object: (root).optimizer._variables.13\n",
            "WARNING:tensorflow:Value in checkpoint could not be found in the restored object: (root).optimizer._variables.14\n",
            "WARNING:tensorflow:Value in checkpoint could not be found in the restored object: (root).optimizer._variables.15\n",
            "WARNING:tensorflow:Value in checkpoint could not be found in the restored object: (root).optimizer._variables.16\n",
            "WARNING:tensorflow:Value in checkpoint could not be found in the restored object: (root).optimizer._variables.17\n",
            "WARNING:tensorflow:Value in checkpoint could not be found in the restored object: (root).optimizer._variables.18\n",
            "WARNING:tensorflow:Value in checkpoint could not be found in the restored object: (root).optimizer._variables.19\n",
            "WARNING:tensorflow:Value in checkpoint could not be found in the restored object: (root).optimizer._variables.20\n",
            "WARNING:tensorflow:Value in checkpoint could not be found in the restored object: (root).optimizer._variables.21\n",
            "WARNING:tensorflow:Value in checkpoint could not be found in the restored object: (root).optimizer._variables.22\n",
            "WARNING:tensorflow:Value in checkpoint could not be found in the restored object: (root).optimizer._variables.23\n",
            "WARNING:tensorflow:Value in checkpoint could not be found in the restored object: (root).optimizer._variables.24\n",
            "WARNING:tensorflow:Value in checkpoint could not be found in the restored object: (root).optimizer._variables.25\n",
            "WARNING:tensorflow:Value in checkpoint could not be found in the restored object: (root).optimizer._variables.26\n",
            "WARNING:tensorflow:Value in checkpoint could not be found in the restored object: (root).optimizer._variables.27\n",
            "WARNING:tensorflow:Value in checkpoint could not be found in the restored object: (root).optimizer._variables.28\n",
            "WARNING:tensorflow:Value in checkpoint could not be found in the restored object: (root).optimizer._variables.29\n",
            "WARNING:tensorflow:Value in checkpoint could not be found in the restored object: (root).optimizer._variables.30\n",
            "WARNING:tensorflow:Value in checkpoint could not be found in the restored object: (root).optimizer._variables.31\n",
            "WARNING:tensorflow:Value in checkpoint could not be found in the restored object: (root).optimizer._variables.32\n",
            "WARNING:tensorflow:Value in checkpoint could not be found in the restored object: (root).optimizer._variables.33\n",
            "WARNING:tensorflow:Value in checkpoint could not be found in the restored object: (root).optimizer._variables.34\n",
            "WARNING:tensorflow:Value in checkpoint could not be found in the restored object: (root).optimizer._variables.35\n",
            "WARNING:tensorflow:Value in checkpoint could not be found in the restored object: (root).optimizer._variables.36\n",
            "WARNING:tensorflow:Value in checkpoint could not be found in the restored object: (root).optimizer._variables.37\n",
            "WARNING:tensorflow:Value in checkpoint could not be found in the restored object: (root).optimizer._variables.38\n",
            "WARNING:tensorflow:Value in checkpoint could not be found in the restored object: (root).optimizer._variables.39\n",
            "WARNING:tensorflow:Value in checkpoint could not be found in the restored object: (root).optimizer._variables.40\n",
            "WARNING:tensorflow:Value in checkpoint could not be found in the restored object: (root).optimizer._variables.41\n",
            "WARNING:tensorflow:Value in checkpoint could not be found in the restored object: (root).optimizer._variables.42\n",
            "WARNING:tensorflow:Value in checkpoint could not be found in the restored object: (root).optimizer._variables.43\n",
            "WARNING:tensorflow:Value in checkpoint could not be found in the restored object: (root).optimizer._variables.44\n",
            "WARNING:tensorflow:Value in checkpoint could not be found in the restored object: (root).keras_api.metrics.0.total\n",
            "WARNING:tensorflow:Value in checkpoint could not be found in the restored object: (root).keras_api.metrics.0.count\n",
            "WARNING:tensorflow:Detecting that an object or model or tf.train.Checkpoint is being deleted with unrestored values. See the following logs for the specific values in question. To silence these warnings, use `status.expect_partial()`. See https://www.tensorflow.org/api_docs/python/tf/train/Checkpoint#restorefor details about the status object returned by the restore function.\n",
            "WARNING:tensorflow:Value in checkpoint could not be found in the restored object: (root).optimizer._variables.1\n",
            "WARNING:tensorflow:Value in checkpoint could not be found in the restored object: (root).optimizer._variables.2\n",
            "WARNING:tensorflow:Value in checkpoint could not be found in the restored object: (root).optimizer._variables.3\n",
            "WARNING:tensorflow:Value in checkpoint could not be found in the restored object: (root).optimizer._variables.4\n",
            "WARNING:tensorflow:Value in checkpoint could not be found in the restored object: (root).optimizer._variables.5\n",
            "WARNING:tensorflow:Value in checkpoint could not be found in the restored object: (root).optimizer._variables.6\n",
            "WARNING:tensorflow:Value in checkpoint could not be found in the restored object: (root).optimizer._variables.7\n",
            "WARNING:tensorflow:Value in checkpoint could not be found in the restored object: (root).optimizer._variables.8\n",
            "WARNING:tensorflow:Value in checkpoint could not be found in the restored object: (root).optimizer._variables.9\n",
            "WARNING:tensorflow:Value in checkpoint could not be found in the restored object: (root).optimizer._variables.10\n",
            "WARNING:tensorflow:Value in checkpoint could not be found in the restored object: (root).optimizer._variables.11\n",
            "WARNING:tensorflow:Value in checkpoint could not be found in the restored object: (root).optimizer._variables.12\n",
            "WARNING:tensorflow:Value in checkpoint could not be found in the restored object: (root).optimizer._variables.13\n",
            "WARNING:tensorflow:Value in checkpoint could not be found in the restored object: (root).optimizer._variables.14\n",
            "WARNING:tensorflow:Value in checkpoint could not be found in the restored object: (root).optimizer._variables.15\n",
            "WARNING:tensorflow:Value in checkpoint could not be found in the restored object: (root).optimizer._variables.16\n",
            "WARNING:tensorflow:Value in checkpoint could not be found in the restored object: (root).optimizer._variables.17\n",
            "WARNING:tensorflow:Value in checkpoint could not be found in the restored object: (root).optimizer._variables.18\n",
            "WARNING:tensorflow:Value in checkpoint could not be found in the restored object: (root).optimizer._variables.19\n",
            "WARNING:tensorflow:Value in checkpoint could not be found in the restored object: (root).optimizer._variables.20\n",
            "WARNING:tensorflow:Value in checkpoint could not be found in the restored object: (root).optimizer._variables.21\n",
            "WARNING:tensorflow:Value in checkpoint could not be found in the restored object: (root).optimizer._variables.22\n",
            "WARNING:tensorflow:Value in checkpoint could not be found in the restored object: (root).optimizer._variables.23\n",
            "WARNING:tensorflow:Value in checkpoint could not be found in the restored object: (root).optimizer._variables.24\n",
            "WARNING:tensorflow:Value in checkpoint could not be found in the restored object: (root).optimizer._variables.25\n",
            "WARNING:tensorflow:Value in checkpoint could not be found in the restored object: (root).optimizer._variables.26\n",
            "WARNING:tensorflow:Value in checkpoint could not be found in the restored object: (root).optimizer._variables.27\n",
            "WARNING:tensorflow:Value in checkpoint could not be found in the restored object: (root).optimizer._variables.28\n",
            "WARNING:tensorflow:Value in checkpoint could not be found in the restored object: (root).optimizer._variables.29\n",
            "WARNING:tensorflow:Value in checkpoint could not be found in the restored object: (root).optimizer._variables.30\n",
            "WARNING:tensorflow:Value in checkpoint could not be found in the restored object: (root).optimizer._variables.31\n",
            "WARNING:tensorflow:Value in checkpoint could not be found in the restored object: (root).optimizer._variables.32\n",
            "WARNING:tensorflow:Value in checkpoint could not be found in the restored object: (root).optimizer._variables.33\n",
            "WARNING:tensorflow:Value in checkpoint could not be found in the restored object: (root).optimizer._variables.34\n",
            "WARNING:tensorflow:Value in checkpoint could not be found in the restored object: (root).optimizer._variables.35\n",
            "WARNING:tensorflow:Value in checkpoint could not be found in the restored object: (root).optimizer._variables.36\n",
            "WARNING:tensorflow:Value in checkpoint could not be found in the restored object: (root).optimizer._variables.37\n",
            "WARNING:tensorflow:Value in checkpoint could not be found in the restored object: (root).optimizer._variables.38\n",
            "WARNING:tensorflow:Value in checkpoint could not be found in the restored object: (root).optimizer._variables.39\n",
            "WARNING:tensorflow:Value in checkpoint could not be found in the restored object: (root).optimizer._variables.40\n",
            "WARNING:tensorflow:Value in checkpoint could not be found in the restored object: (root).optimizer._variables.41\n",
            "WARNING:tensorflow:Value in checkpoint could not be found in the restored object: (root).optimizer._variables.42\n",
            "WARNING:tensorflow:Value in checkpoint could not be found in the restored object: (root).optimizer._variables.43\n",
            "WARNING:tensorflow:Value in checkpoint could not be found in the restored object: (root).optimizer._variables.44\n",
            "WARNING:tensorflow:Value in checkpoint could not be found in the restored object: (root).keras_api.metrics.0.total\n",
            "WARNING:tensorflow:Value in checkpoint could not be found in the restored object: (root).keras_api.metrics.0.count\n",
            "WARNING:tensorflow:Detecting that an object or model or tf.train.Checkpoint is being deleted with unrestored values. See the following logs for the specific values in question. To silence these warnings, use `status.expect_partial()`. See https://www.tensorflow.org/api_docs/python/tf/train/Checkpoint#restorefor details about the status object returned by the restore function.\n",
            "WARNING:tensorflow:Value in checkpoint could not be found in the restored object: (root).optimizer._variables.1\n",
            "WARNING:tensorflow:Value in checkpoint could not be found in the restored object: (root).optimizer._variables.2\n",
            "WARNING:tensorflow:Value in checkpoint could not be found in the restored object: (root).optimizer._variables.3\n",
            "WARNING:tensorflow:Value in checkpoint could not be found in the restored object: (root).optimizer._variables.4\n",
            "WARNING:tensorflow:Value in checkpoint could not be found in the restored object: (root).optimizer._variables.5\n",
            "WARNING:tensorflow:Value in checkpoint could not be found in the restored object: (root).optimizer._variables.6\n",
            "WARNING:tensorflow:Value in checkpoint could not be found in the restored object: (root).optimizer._variables.7\n",
            "WARNING:tensorflow:Value in checkpoint could not be found in the restored object: (root).optimizer._variables.8\n",
            "WARNING:tensorflow:Value in checkpoint could not be found in the restored object: (root).optimizer._variables.9\n",
            "WARNING:tensorflow:Value in checkpoint could not be found in the restored object: (root).optimizer._variables.10\n",
            "WARNING:tensorflow:Value in checkpoint could not be found in the restored object: (root).optimizer._variables.11\n",
            "WARNING:tensorflow:Value in checkpoint could not be found in the restored object: (root).optimizer._variables.12\n",
            "WARNING:tensorflow:Value in checkpoint could not be found in the restored object: (root).optimizer._variables.13\n",
            "WARNING:tensorflow:Value in checkpoint could not be found in the restored object: (root).optimizer._variables.14\n",
            "WARNING:tensorflow:Value in checkpoint could not be found in the restored object: (root).optimizer._variables.15\n",
            "WARNING:tensorflow:Value in checkpoint could not be found in the restored object: (root).optimizer._variables.16\n",
            "WARNING:tensorflow:Value in checkpoint could not be found in the restored object: (root).optimizer._variables.17\n",
            "WARNING:tensorflow:Value in checkpoint could not be found in the restored object: (root).optimizer._variables.18\n",
            "WARNING:tensorflow:Value in checkpoint could not be found in the restored object: (root).optimizer._variables.19\n",
            "WARNING:tensorflow:Value in checkpoint could not be found in the restored object: (root).optimizer._variables.20\n",
            "WARNING:tensorflow:Value in checkpoint could not be found in the restored object: (root).optimizer._variables.21\n",
            "WARNING:tensorflow:Value in checkpoint could not be found in the restored object: (root).optimizer._variables.22\n",
            "WARNING:tensorflow:Value in checkpoint could not be found in the restored object: (root).optimizer._variables.23\n",
            "WARNING:tensorflow:Value in checkpoint could not be found in the restored object: (root).optimizer._variables.24\n",
            "WARNING:tensorflow:Value in checkpoint could not be found in the restored object: (root).optimizer._variables.25\n",
            "WARNING:tensorflow:Value in checkpoint could not be found in the restored object: (root).optimizer._variables.26\n",
            "WARNING:tensorflow:Value in checkpoint could not be found in the restored object: (root).optimizer._variables.27\n",
            "WARNING:tensorflow:Value in checkpoint could not be found in the restored object: (root).optimizer._variables.28\n",
            "WARNING:tensorflow:Value in checkpoint could not be found in the restored object: (root).optimizer._variables.29\n",
            "WARNING:tensorflow:Value in checkpoint could not be found in the restored object: (root).optimizer._variables.30\n",
            "WARNING:tensorflow:Value in checkpoint could not be found in the restored object: (root).optimizer._variables.31\n",
            "WARNING:tensorflow:Value in checkpoint could not be found in the restored object: (root).optimizer._variables.32\n",
            "WARNING:tensorflow:Value in checkpoint could not be found in the restored object: (root).optimizer._variables.33\n",
            "WARNING:tensorflow:Value in checkpoint could not be found in the restored object: (root).optimizer._variables.34\n",
            "WARNING:tensorflow:Value in checkpoint could not be found in the restored object: (root).optimizer._variables.35\n",
            "WARNING:tensorflow:Value in checkpoint could not be found in the restored object: (root).optimizer._variables.36\n",
            "WARNING:tensorflow:Value in checkpoint could not be found in the restored object: (root).optimizer._variables.37\n",
            "WARNING:tensorflow:Value in checkpoint could not be found in the restored object: (root).optimizer._variables.38\n",
            "WARNING:tensorflow:Value in checkpoint could not be found in the restored object: (root).optimizer._variables.39\n",
            "WARNING:tensorflow:Value in checkpoint could not be found in the restored object: (root).optimizer._variables.40\n",
            "WARNING:tensorflow:Value in checkpoint could not be found in the restored object: (root).optimizer._variables.41\n",
            "WARNING:tensorflow:Value in checkpoint could not be found in the restored object: (root).optimizer._variables.42\n",
            "WARNING:tensorflow:Value in checkpoint could not be found in the restored object: (root).optimizer._variables.43\n",
            "WARNING:tensorflow:Value in checkpoint could not be found in the restored object: (root).optimizer._variables.44\n",
            "WARNING:tensorflow:Value in checkpoint could not be found in the restored object: (root).keras_api.metrics.0.total\n",
            "WARNING:tensorflow:Value in checkpoint could not be found in the restored object: (root).keras_api.metrics.0.count\n"
          ]
        },
        {
          "output_type": "stream",
          "name": "stdout",
          "text": [
            "2/2 [==============================] - 0s 17ms/step\n",
            "Finish Initialization\n",
            "(160, 64, 64, 3)\n",
            "Memory taken by training input:\n",
            "7864320\n",
            "Memory taken by training output:\n",
            "(160, 64, 64, 5)\n",
            "13107200\n",
            "Memory taken by validation input:\n",
            "2015232\n",
            "Memory taken by validation output:\n",
            "(160, 64, 64, 5)\n",
            "3358720\n"
          ]
        },
        {
          "output_type": "stream",
          "name": "stderr",
          "text": [
            "WARNING:absl:`lr` is deprecated in Keras optimizer, please use `learning_rate` or use the legacy optimizer, e.g.,tf.keras.optimizers.legacy.Adam.\n"
          ]
        },
        {
          "output_type": "stream",
          "name": "stdout",
          "text": [
            "Model: \"sequential\"\n",
            "_________________________________________________________________\n",
            " Layer (type)                Output Shape              Param #   \n",
            "=================================================================\n",
            " conv2d (Conv2D)             (None, 64, 64, 32)        2432      \n",
            "                                                                 \n",
            " conv2d_1 (Conv2D)           (None, 64, 64, 32)        25632     \n",
            "                                                                 \n",
            " conv2d_2 (Conv2D)           (None, 64, 64, 32)        25632     \n",
            "                                                                 \n",
            " conv2d_3 (Conv2D)           (None, 64, 64, 32)        25632     \n",
            "                                                                 \n",
            " conv2d_4 (Conv2D)           (None, 64, 64, 32)        25632     \n",
            "                                                                 \n",
            " conv2d_5 (Conv2D)           (None, 64, 64, 32)        25632     \n",
            "                                                                 \n",
            " conv2d_6 (Conv2D)           (None, 64, 64, 32)        25632     \n",
            "                                                                 \n",
            " conv2d_7 (Conv2D)           (None, 64, 64, 32)        25632     \n",
            "                                                                 \n",
            " conv2d_8 (Conv2D)           (None, 64, 64, 32)        25632     \n",
            "                                                                 \n",
            " conv2d_9 (Conv2D)           (None, 64, 64, 32)        25632     \n",
            "                                                                 \n",
            " conv2d_10 (Conv2D)          (None, 64, 64, 5)         4005      \n",
            "                                                                 \n",
            "=================================================================\n",
            "Total params: 237125 (926.27 KB)\n",
            "Trainable params: 25632 (100.12 KB)\n",
            "Non-trainable params: 211493 (826.14 KB)\n",
            "_________________________________________________________________\n"
          ]
        },
        {
          "output_type": "stream",
          "name": "stderr",
          "text": [
            "WARNING:absl:`lr` is deprecated in Keras optimizer, please use `learning_rate` or use the legacy optimizer, e.g.,tf.keras.optimizers.legacy.Adam.\n"
          ]
        },
        {
          "output_type": "stream",
          "name": "stdout",
          "text": [
            "None\n",
            "[1.79013485e-04 1.60699856e-04 1.49502506e-04 1.42234785e-04\n",
            " 1.36555856e-04 1.32224173e-04 1.28617467e-04 1.25403312e-04\n",
            " 1.23015634e-04 1.21242934e-04 1.19660494e-04 1.18023170e-04\n",
            " 1.16638592e-04 1.15514304e-04 1.14643830e-04 1.13628179e-04\n",
            " 1.12723545e-04 1.12252324e-04 1.11163412e-04 1.10444045e-04\n",
            " 1.09789507e-04 1.09294226e-04 1.08739543e-04 1.07916268e-04\n",
            " 1.07428255e-04 1.06823849e-04 1.06470907e-04 1.06704421e-04\n",
            " 1.05421866e-04 1.05142368e-04 1.04343213e-04 1.03698701e-04\n",
            " 1.03239945e-04 1.03032056e-04 1.02610167e-04 1.02225007e-04\n",
            " 1.01889280e-04 1.01285419e-04 1.01150355e-04 1.00750804e-04\n",
            " 1.00608144e-04 1.00213183e-04 9.98877222e-05 9.92671994e-05\n",
            " 9.91056004e-05 9.89588370e-05 9.86393934e-05 9.83474456e-05\n",
            " 9.85474544e-05 9.80245604e-05]\n",
            "2/2 [==============================] - 0s 17ms/step\n",
            "Finish Initialization\n",
            "(160, 64, 64, 3)\n",
            "Memory taken by training input:\n",
            "7864320\n",
            "Memory taken by training output:\n",
            "(160, 64, 64, 5)\n",
            "13107200\n",
            "Memory taken by validation input:\n",
            "2015232\n",
            "Memory taken by validation output:\n",
            "(160, 64, 64, 5)\n",
            "3358720\n"
          ]
        },
        {
          "output_type": "stream",
          "name": "stderr",
          "text": [
            "WARNING:absl:`lr` is deprecated in Keras optimizer, please use `learning_rate` or use the legacy optimizer, e.g.,tf.keras.optimizers.legacy.Adam.\n"
          ]
        },
        {
          "output_type": "stream",
          "name": "stdout",
          "text": [
            "Model: \"sequential\"\n",
            "_________________________________________________________________\n",
            " Layer (type)                Output Shape              Param #   \n",
            "=================================================================\n",
            " conv2d (Conv2D)             (None, 64, 64, 32)        2432      \n",
            "                                                                 \n",
            " conv2d_1 (Conv2D)           (None, 64, 64, 32)        25632     \n",
            "                                                                 \n",
            " conv2d_2 (Conv2D)           (None, 64, 64, 32)        25632     \n",
            "                                                                 \n",
            " conv2d_3 (Conv2D)           (None, 64, 64, 32)        25632     \n",
            "                                                                 \n",
            " conv2d_4 (Conv2D)           (None, 64, 64, 32)        25632     \n",
            "                                                                 \n",
            " conv2d_5 (Conv2D)           (None, 64, 64, 32)        25632     \n",
            "                                                                 \n",
            " conv2d_6 (Conv2D)           (None, 64, 64, 32)        25632     \n",
            "                                                                 \n",
            " conv2d_7 (Conv2D)           (None, 64, 64, 32)        25632     \n",
            "                                                                 \n",
            " conv2d_8 (Conv2D)           (None, 64, 64, 32)        25632     \n",
            "                                                                 \n",
            " conv2d_9 (Conv2D)           (None, 64, 64, 32)        25632     \n",
            "                                                                 \n",
            " conv2d_10 (Conv2D)          (None, 64, 64, 5)         4005      \n",
            "                                                                 \n",
            "=================================================================\n",
            "Total params: 237125 (926.27 KB)\n",
            "Trainable params: 25632 (100.12 KB)\n",
            "Non-trainable params: 211493 (826.14 KB)\n",
            "_________________________________________________________________\n"
          ]
        },
        {
          "output_type": "stream",
          "name": "stderr",
          "text": [
            "WARNING:absl:`lr` is deprecated in Keras optimizer, please use `learning_rate` or use the legacy optimizer, e.g.,tf.keras.optimizers.legacy.Adam.\n"
          ]
        },
        {
          "output_type": "stream",
          "name": "stdout",
          "text": [
            "None\n",
            "[0.00018237 0.00016428 0.00015206 0.00014304 0.00013719 0.00013269\n",
            " 0.00012924 0.00012665 0.00012482 0.00012303 0.00012151 0.00012021\n",
            " 0.00011897 0.0001182  0.00011709 0.00011618 0.00011548 0.00011449\n",
            " 0.00011393 0.00011329 0.00011265 0.00011197 0.0001116  0.00011112\n",
            " 0.00011054 0.00011019 0.0001099  0.00010923 0.00010877 0.00010852\n",
            " 0.00010811 0.00010775 0.00010731 0.00010704 0.00010668 0.00010631\n",
            " 0.00010631 0.00010576 0.00010553 0.00010535 0.00010497 0.00010506\n",
            " 0.00010461 0.00010411 0.00010387 0.00010368 0.0001035  0.00010347\n",
            " 0.00010307 0.00010292]\n",
            "2/2 [==============================] - 0s 13ms/step\n",
            "Finish Initialization\n",
            "(160, 64, 64, 3)\n",
            "Memory taken by training input:\n",
            "7864320\n",
            "Memory taken by training output:\n",
            "(160, 64, 64, 5)\n",
            "13107200\n",
            "Memory taken by validation input:\n",
            "2015232\n",
            "Memory taken by validation output:\n",
            "(160, 64, 64, 5)\n",
            "3358720\n"
          ]
        },
        {
          "output_type": "stream",
          "name": "stderr",
          "text": [
            "WARNING:absl:`lr` is deprecated in Keras optimizer, please use `learning_rate` or use the legacy optimizer, e.g.,tf.keras.optimizers.legacy.Adam.\n"
          ]
        },
        {
          "output_type": "stream",
          "name": "stdout",
          "text": [
            "Model: \"sequential\"\n",
            "_________________________________________________________________\n",
            " Layer (type)                Output Shape              Param #   \n",
            "=================================================================\n",
            " conv2d (Conv2D)             (None, 64, 64, 32)        2432      \n",
            "                                                                 \n",
            " conv2d_1 (Conv2D)           (None, 64, 64, 32)        25632     \n",
            "                                                                 \n",
            " conv2d_2 (Conv2D)           (None, 64, 64, 32)        25632     \n",
            "                                                                 \n",
            " conv2d_3 (Conv2D)           (None, 64, 64, 32)        25632     \n",
            "                                                                 \n",
            " conv2d_4 (Conv2D)           (None, 64, 64, 32)        25632     \n",
            "                                                                 \n",
            " conv2d_5 (Conv2D)           (None, 64, 64, 32)        25632     \n",
            "                                                                 \n",
            " conv2d_6 (Conv2D)           (None, 64, 64, 32)        25632     \n",
            "                                                                 \n",
            " conv2d_7 (Conv2D)           (None, 64, 64, 32)        25632     \n",
            "                                                                 \n",
            " conv2d_8 (Conv2D)           (None, 64, 64, 32)        25632     \n",
            "                                                                 \n",
            " conv2d_9 (Conv2D)           (None, 64, 64, 32)        25632     \n",
            "                                                                 \n",
            " conv2d_10 (Conv2D)          (None, 64, 64, 5)         4005      \n",
            "                                                                 \n",
            "=================================================================\n",
            "Total params: 237125 (926.27 KB)\n",
            "Trainable params: 4005 (15.64 KB)\n",
            "Non-trainable params: 233120 (910.62 KB)\n",
            "_________________________________________________________________\n"
          ]
        },
        {
          "output_type": "stream",
          "name": "stderr",
          "text": [
            "WARNING:absl:`lr` is deprecated in Keras optimizer, please use `learning_rate` or use the legacy optimizer, e.g.,tf.keras.optimizers.legacy.Adam.\n"
          ]
        },
        {
          "output_type": "stream",
          "name": "stdout",
          "text": [
            "None\n",
            "[0.00021781 0.00020254 0.00019373 0.00018754 0.00018252 0.0001781\n",
            " 0.00017421 0.00017063 0.00016733 0.0001645  0.00016181 0.0001594\n",
            " 0.00015722 0.00015528 0.00015351 0.00015188 0.00015035 0.00014901\n",
            " 0.00014781 0.00014667 0.00014564 0.00014468 0.00014384 0.00014296\n",
            " 0.00014227 0.00014153 0.00014086 0.00014027 0.00013967 0.00013915\n",
            " 0.00013864 0.00013818 0.0001377  0.00013734 0.00013685 0.00013648\n",
            " 0.00013612 0.00013573 0.00013538 0.00013506 0.00013473 0.00013441\n",
            " 0.00013418 0.00013387 0.00013357 0.00013333 0.00013306 0.0001328\n",
            " 0.00013262 0.00013234]\n",
            "2/2 [==============================] - 0s 17ms/step\n"
          ]
        }
      ]
    },
    {
      "cell_type": "code",
      "source": [
        " !zip -r Models.zip Models"
      ],
      "metadata": {
        "colab": {
          "base_uri": "https://localhost:8080/"
        },
        "id": "gp9YtTLP8HTh",
        "outputId": "1238b03d-9442-42fa-aaf5-73628d10da5c"
      },
      "execution_count": null,
      "outputs": [
        {
          "output_type": "stream",
          "name": "stdout",
          "text": [
            "  adding: Models/ (stored 0%)\n",
            "  adding: Models/CNN_TL_from_Ra_10k_to_Re_1M_per_train_p_layers_8/ (stored 0%)\n",
            "  adding: Models/CNN_TL_from_Ra_10k_to_Re_1M_per_train_p_layers_8/assets/ (stored 0%)\n",
            "  adding: Models/CNN_TL_from_Ra_10k_to_Re_1M_per_train_p_layers_8/variables/ (stored 0%)\n",
            "  adding: Models/CNN_TL_from_Ra_10k_to_Re_1M_per_train_p_layers_8/variables/variables.index (deflated 67%)\n",
            "  adding: Models/CNN_TL_from_Ra_10k_to_Re_1M_per_train_p_layers_8/variables/variables.data-00000-of-00001 (deflated 8%)\n",
            "  adding: Models/CNN_TL_from_Ra_10k_to_Re_1M_per_train_p_layers_8/keras_metadata.pb (deflated 95%)\n",
            "  adding: Models/CNN_TL_from_Ra_10k_to_Re_1M_per_train_p_layers_8/fingerprint.pb (stored 0%)\n",
            "  adding: Models/CNN_TL_from_Ra_10k_to_Re_1M_per_train_p_layers_8/saved_model.pb (deflated 90%)\n",
            "  adding: Models/CNN_TL_from_Ra_10k_to_Re_1M_per_train_p_layers_6/ (stored 0%)\n",
            "  adding: Models/CNN_TL_from_Ra_10k_to_Re_1M_per_train_p_layers_6/assets/ (stored 0%)\n",
            "  adding: Models/CNN_TL_from_Ra_10k_to_Re_1M_per_train_p_layers_6/variables/ (stored 0%)\n",
            "  adding: Models/CNN_TL_from_Ra_10k_to_Re_1M_per_train_p_layers_6/variables/variables.index (deflated 67%)\n",
            "  adding: Models/CNN_TL_from_Ra_10k_to_Re_1M_per_train_p_layers_6/variables/variables.data-00000-of-00001 (deflated 8%)\n",
            "  adding: Models/CNN_TL_from_Ra_10k_to_Re_1M_per_train_p_layers_6/keras_metadata.pb (deflated 95%)\n",
            "  adding: Models/CNN_TL_from_Ra_10k_to_Re_1M_per_train_p_layers_6/fingerprint.pb (stored 0%)\n",
            "  adding: Models/CNN_TL_from_Ra_10k_to_Re_1M_per_train_p_layers_6/saved_model.pb (deflated 89%)\n",
            "  adding: Models/CNN_TL_from_Ra_10k_to_Re_1M_per_train_p_layers_11/ (stored 0%)\n",
            "  adding: Models/CNN_TL_from_Ra_10k_to_Re_1M_per_train_p_layers_11/assets/ (stored 0%)\n",
            "  adding: Models/CNN_TL_from_Ra_10k_to_Re_1M_per_train_p_layers_11/variables/ (stored 0%)\n",
            "  adding: Models/CNN_TL_from_Ra_10k_to_Re_1M_per_train_p_layers_11/variables/variables.index (deflated 67%)\n",
            "  adding: Models/CNN_TL_from_Ra_10k_to_Re_1M_per_train_p_layers_11/variables/variables.data-00000-of-00001 (deflated 8%)\n",
            "  adding: Models/CNN_TL_from_Ra_10k_to_Re_1M_per_train_p_layers_11/keras_metadata.pb (deflated 95%)\n",
            "  adding: Models/CNN_TL_from_Ra_10k_to_Re_1M_per_train_p_layers_11/fingerprint.pb (stored 0%)\n",
            "  adding: Models/CNN_TL_from_Ra_10k_to_Re_1M_per_train_p_layers_11/saved_model.pb (deflated 89%)\n",
            "  adding: Models/CNN_TL_from_Ra_10k_to_Re_1M_per_train_p_layers_1/ (stored 0%)\n",
            "  adding: Models/CNN_TL_from_Ra_10k_to_Re_1M_per_train_p_layers_1/assets/ (stored 0%)\n",
            "  adding: Models/CNN_TL_from_Ra_10k_to_Re_1M_per_train_p_layers_1/variables/ (stored 0%)\n",
            "  adding: Models/CNN_TL_from_Ra_10k_to_Re_1M_per_train_p_layers_1/variables/variables.index (deflated 67%)\n",
            "  adding: Models/CNN_TL_from_Ra_10k_to_Re_1M_per_train_p_layers_1/variables/variables.data-00000-of-00001 (deflated 8%)\n",
            "  adding: Models/CNN_TL_from_Ra_10k_to_Re_1M_per_train_p_layers_1/keras_metadata.pb (deflated 95%)\n",
            "  adding: Models/CNN_TL_from_Ra_10k_to_Re_1M_per_train_p_layers_1/fingerprint.pb (stored 0%)\n",
            "  adding: Models/CNN_TL_from_Ra_10k_to_Re_1M_per_train_p_layers_1/saved_model.pb (deflated 90%)\n",
            "  adding: Models/CNN_TL_from_Ra_10k_to_Re_1M_per_train_p_layers_4/ (stored 0%)\n",
            "  adding: Models/CNN_TL_from_Ra_10k_to_Re_1M_per_train_p_layers_4/assets/ (stored 0%)\n",
            "  adding: Models/CNN_TL_from_Ra_10k_to_Re_1M_per_train_p_layers_4/variables/ (stored 0%)\n",
            "  adding: Models/CNN_TL_from_Ra_10k_to_Re_1M_per_train_p_layers_4/variables/variables.index (deflated 67%)\n",
            "  adding: Models/CNN_TL_from_Ra_10k_to_Re_1M_per_train_p_layers_4/variables/variables.data-00000-of-00001 (deflated 9%)\n",
            "  adding: Models/CNN_TL_from_Ra_10k_to_Re_1M_per_train_p_layers_4/keras_metadata.pb (deflated 95%)\n",
            "  adding: Models/CNN_TL_from_Ra_10k_to_Re_1M_per_train_p_layers_4/fingerprint.pb (stored 0%)\n",
            "  adding: Models/CNN_TL_from_Ra_10k_to_Re_1M_per_train_p_layers_4/saved_model.pb (deflated 89%)\n",
            "  adding: Models/CNN_TL_from_Ra_10k_to_Re_1M_per_train_p_layers_9/ (stored 0%)\n",
            "  adding: Models/CNN_TL_from_Ra_10k_to_Re_1M_per_train_p_layers_9/assets/ (stored 0%)\n",
            "  adding: Models/CNN_TL_from_Ra_10k_to_Re_1M_per_train_p_layers_9/variables/ (stored 0%)\n",
            "  adding: Models/CNN_TL_from_Ra_10k_to_Re_1M_per_train_p_layers_9/variables/variables.index (deflated 67%)\n",
            "  adding: Models/CNN_TL_from_Ra_10k_to_Re_1M_per_train_p_layers_9/variables/variables.data-00000-of-00001 (deflated 8%)\n",
            "  adding: Models/CNN_TL_from_Ra_10k_to_Re_1M_per_train_p_layers_9/keras_metadata.pb (deflated 95%)\n",
            "  adding: Models/CNN_TL_from_Ra_10k_to_Re_1M_per_train_p_layers_9/fingerprint.pb (stored 0%)\n",
            "  adding: Models/CNN_TL_from_Ra_10k_to_Re_1M_per_train_p_layers_9/saved_model.pb (deflated 90%)\n",
            "  adding: Models/CNN_TL_from_Ra_10k_to_Re_1M_per_train_p_layers_5/ (stored 0%)\n",
            "  adding: Models/CNN_TL_from_Ra_10k_to_Re_1M_per_train_p_layers_5/assets/ (stored 0%)\n",
            "  adding: Models/CNN_TL_from_Ra_10k_to_Re_1M_per_train_p_layers_5/variables/ (stored 0%)\n",
            "  adding: Models/CNN_TL_from_Ra_10k_to_Re_1M_per_train_p_layers_5/variables/variables.index (deflated 67%)\n",
            "  adding: Models/CNN_TL_from_Ra_10k_to_Re_1M_per_train_p_layers_5/variables/variables.data-00000-of-00001 (deflated 8%)\n",
            "  adding: Models/CNN_TL_from_Ra_10k_to_Re_1M_per_train_p_layers_5/keras_metadata.pb (deflated 95%)\n",
            "  adding: Models/CNN_TL_from_Ra_10k_to_Re_1M_per_train_p_layers_5/fingerprint.pb (stored 0%)\n",
            "  adding: Models/CNN_TL_from_Ra_10k_to_Re_1M_per_train_p_layers_5/saved_model.pb (deflated 89%)\n",
            "  adding: Models/CNN_TL_from_Ra_10k_to_Re_1M_per_train_p_layers_7/ (stored 0%)\n",
            "  adding: Models/CNN_TL_from_Ra_10k_to_Re_1M_per_train_p_layers_7/assets/ (stored 0%)\n",
            "  adding: Models/CNN_TL_from_Ra_10k_to_Re_1M_per_train_p_layers_7/variables/ (stored 0%)\n",
            "  adding: Models/CNN_TL_from_Ra_10k_to_Re_1M_per_train_p_layers_7/variables/variables.index (deflated 67%)\n",
            "  adding: Models/CNN_TL_from_Ra_10k_to_Re_1M_per_train_p_layers_7/variables/variables.data-00000-of-00001 (deflated 8%)\n",
            "  adding: Models/CNN_TL_from_Ra_10k_to_Re_1M_per_train_p_layers_7/keras_metadata.pb (deflated 95%)\n",
            "  adding: Models/CNN_TL_from_Ra_10k_to_Re_1M_per_train_p_layers_7/fingerprint.pb (stored 0%)\n",
            "  adding: Models/CNN_TL_from_Ra_10k_to_Re_1M_per_train_p_layers_7/saved_model.pb (deflated 90%)\n",
            "  adding: Models/CNN_TL_from_Ra_10k_to_Re_1M_per_train_p_layers_10/ (stored 0%)\n",
            "  adding: Models/CNN_TL_from_Ra_10k_to_Re_1M_per_train_p_layers_10/assets/ (stored 0%)\n",
            "  adding: Models/CNN_TL_from_Ra_10k_to_Re_1M_per_train_p_layers_10/variables/ (stored 0%)\n",
            "  adding: Models/CNN_TL_from_Ra_10k_to_Re_1M_per_train_p_layers_10/variables/variables.index (deflated 67%)\n",
            "  adding: Models/CNN_TL_from_Ra_10k_to_Re_1M_per_train_p_layers_10/variables/variables.data-00000-of-00001 (deflated 8%)\n",
            "  adding: Models/CNN_TL_from_Ra_10k_to_Re_1M_per_train_p_layers_10/keras_metadata.pb (deflated 95%)\n",
            "  adding: Models/CNN_TL_from_Ra_10k_to_Re_1M_per_train_p_layers_10/fingerprint.pb (stored 0%)\n",
            "  adding: Models/CNN_TL_from_Ra_10k_to_Re_1M_per_train_p_layers_10/saved_model.pb (deflated 90%)\n",
            "  adding: Models/CNN_TL_from_Ra_10k_to_Re_1M_per_train_p_layers_2/ (stored 0%)\n",
            "  adding: Models/CNN_TL_from_Ra_10k_to_Re_1M_per_train_p_layers_2/assets/ (stored 0%)\n",
            "  adding: Models/CNN_TL_from_Ra_10k_to_Re_1M_per_train_p_layers_2/variables/ (stored 0%)\n",
            "  adding: Models/CNN_TL_from_Ra_10k_to_Re_1M_per_train_p_layers_2/variables/variables.index (deflated 67%)\n",
            "  adding: Models/CNN_TL_from_Ra_10k_to_Re_1M_per_train_p_layers_2/variables/variables.data-00000-of-00001 (deflated 8%)\n",
            "  adding: Models/CNN_TL_from_Ra_10k_to_Re_1M_per_train_p_layers_2/keras_metadata.pb (deflated 95%)\n",
            "  adding: Models/CNN_TL_from_Ra_10k_to_Re_1M_per_train_p_layers_2/fingerprint.pb (stored 0%)\n",
            "  adding: Models/CNN_TL_from_Ra_10k_to_Re_1M_per_train_p_layers_2/saved_model.pb (deflated 90%)\n",
            "  adding: Models/CNN_TL_from_Ra_10k_to_Re_1M_per_train_p_layers_3/ (stored 0%)\n",
            "  adding: Models/CNN_TL_from_Ra_10k_to_Re_1M_per_train_p_layers_3/assets/ (stored 0%)\n",
            "  adding: Models/CNN_TL_from_Ra_10k_to_Re_1M_per_train_p_layers_3/variables/ (stored 0%)\n",
            "  adding: Models/CNN_TL_from_Ra_10k_to_Re_1M_per_train_p_layers_3/variables/variables.index (deflated 67%)\n",
            "  adding: Models/CNN_TL_from_Ra_10k_to_Re_1M_per_train_p_layers_3/variables/variables.data-00000-of-00001 (deflated 8%)\n",
            "  adding: Models/CNN_TL_from_Ra_10k_to_Re_1M_per_train_p_layers_3/keras_metadata.pb (deflated 95%)\n",
            "  adding: Models/CNN_TL_from_Ra_10k_to_Re_1M_per_train_p_layers_3/fingerprint.pb (stored 0%)\n",
            "  adding: Models/CNN_TL_from_Ra_10k_to_Re_1M_per_train_p_layers_3/saved_model.pb (deflated 89%)\n"
          ]
        }
      ]
    },
    {
      "cell_type": "code",
      "source": [
        "model_base = build_model(**params)\n",
        "model_base.load_weights('CNN')"
      ],
      "metadata": {
        "colab": {
          "base_uri": "https://localhost:8080/"
        },
        "id": "19TMBlXdjYAP",
        "outputId": "968e70e4-d01d-4317-bbd0-ad4095626e64"
      },
      "execution_count": null,
      "outputs": [
        {
          "output_type": "stream",
          "name": "stderr",
          "text": [
            "WARNING:absl:`lr` is deprecated in Keras optimizer, please use `learning_rate` or use the legacy optimizer, e.g.,tf.keras.optimizers.legacy.Adam.\n"
          ]
        },
        {
          "output_type": "execute_result",
          "data": {
            "text/plain": [
              "<tensorflow.python.checkpoint.checkpoint.CheckpointLoadStatus at 0x7e36604e5750>"
            ]
          },
          "metadata": {},
          "execution_count": 69
        }
      ]
    },
    {
      "cell_type": "code",
      "source": [
        "pred = model_base.predict(input_normalized_val[:,:,:,:])\n",
        "correct = output_normalized_val[:,:,:,:]"
      ],
      "metadata": {
        "colab": {
          "base_uri": "https://localhost:8080/"
        },
        "id": "D1S5RvjMsFwS",
        "outputId": "a3f64301-820c-4da8-ccae-478378fccea6"
      },
      "execution_count": null,
      "outputs": [
        {
          "output_type": "stream",
          "name": "stdout",
          "text": [
            "2/2 [==============================] - 0s 27ms/step\n"
          ]
        }
      ]
    },
    {
      "cell_type": "code",
      "source": [
        "# Correlation for the BNN on the TL data\n",
        "x = pred.flatten()\n",
        "y = correct.flatten()\n",
        "print(np.corrcoef(x,y)[0,1])"
      ],
      "metadata": {
        "id": "HNU5da_wsaqn",
        "outputId": "95237742-14cc-4a2e-b310-1043931c7538",
        "colab": {
          "base_uri": "https://localhost:8080/"
        }
      },
      "execution_count": null,
      "outputs": [
        {
          "output_type": "stream",
          "name": "stdout",
          "text": [
            "0.3876784861828203\n"
          ]
        }
      ]
    },
    {
      "cell_type": "code",
      "source": [
        "correct = output_normalized_val[:,:,:,:]\n",
        "\n",
        "correlations = []\n",
        "models = []\n",
        "for i in range(1,12):\n",
        "  curr_model = build_model(**params)\n",
        "  curr_model.load_weights('Models/CNN_TL_from_Ra_10k_to_Re_1M_per_train_p_layers_'+str(i))\n",
        "  pred = curr_model.predict(input_normalized_val[:,:,:,:])\n",
        "  x = pred.flatten()\n",
        "  y = correct.flatten()\n",
        "  correlations.append(np.corrcoef(x,y)[0,1])\n",
        "  print(np.corrcoef(x,y)[0,1])"
      ],
      "metadata": {
        "colab": {
          "base_uri": "https://localhost:8080/"
        },
        "id": "T3v1781WnsT2",
        "outputId": "76a522b2-1a96-4205-d29e-89beeb79ffe7"
      },
      "execution_count": null,
      "outputs": [
        {
          "output_type": "stream",
          "name": "stderr",
          "text": [
            "WARNING:absl:`lr` is deprecated in Keras optimizer, please use `learning_rate` or use the legacy optimizer, e.g.,tf.keras.optimizers.legacy.Adam.\n"
          ]
        },
        {
          "output_type": "stream",
          "name": "stdout",
          "text": [
            "2/2 [==============================] - 0s 17ms/step\n",
            "0.5727261663618621\n"
          ]
        },
        {
          "output_type": "stream",
          "name": "stderr",
          "text": [
            "WARNING:absl:`lr` is deprecated in Keras optimizer, please use `learning_rate` or use the legacy optimizer, e.g.,tf.keras.optimizers.legacy.Adam.\n"
          ]
        },
        {
          "output_type": "stream",
          "name": "stdout",
          "text": [
            "2/2 [==============================] - 0s 21ms/step\n",
            "0.6402574977383619\n"
          ]
        },
        {
          "output_type": "stream",
          "name": "stderr",
          "text": [
            "WARNING:absl:`lr` is deprecated in Keras optimizer, please use `learning_rate` or use the legacy optimizer, e.g.,tf.keras.optimizers.legacy.Adam.\n"
          ]
        },
        {
          "output_type": "stream",
          "name": "stdout",
          "text": [
            "2/2 [==============================] - 0s 24ms/step\n",
            "0.6459403861253787\n"
          ]
        },
        {
          "output_type": "stream",
          "name": "stderr",
          "text": [
            "WARNING:absl:`lr` is deprecated in Keras optimizer, please use `learning_rate` or use the legacy optimizer, e.g.,tf.keras.optimizers.legacy.Adam.\n"
          ]
        },
        {
          "output_type": "stream",
          "name": "stdout",
          "text": [
            "2/2 [==============================] - 0s 15ms/step\n",
            "0.6644240075971182\n"
          ]
        },
        {
          "output_type": "stream",
          "name": "stderr",
          "text": [
            "WARNING:absl:`lr` is deprecated in Keras optimizer, please use `learning_rate` or use the legacy optimizer, e.g.,tf.keras.optimizers.legacy.Adam.\n"
          ]
        },
        {
          "output_type": "stream",
          "name": "stdout",
          "text": [
            "2/2 [==============================] - 0s 23ms/step\n",
            "0.7052887028132596\n"
          ]
        },
        {
          "output_type": "stream",
          "name": "stderr",
          "text": [
            "WARNING:absl:`lr` is deprecated in Keras optimizer, please use `learning_rate` or use the legacy optimizer, e.g.,tf.keras.optimizers.legacy.Adam.\n"
          ]
        },
        {
          "output_type": "stream",
          "name": "stdout",
          "text": [
            "2/2 [==============================] - 0s 17ms/step\n",
            "0.7283192965326847\n"
          ]
        },
        {
          "output_type": "stream",
          "name": "stderr",
          "text": [
            "WARNING:absl:`lr` is deprecated in Keras optimizer, please use `learning_rate` or use the legacy optimizer, e.g.,tf.keras.optimizers.legacy.Adam.\n"
          ]
        },
        {
          "output_type": "stream",
          "name": "stdout",
          "text": [
            "2/2 [==============================] - 0s 23ms/step\n",
            "0.7512927785004402\n"
          ]
        },
        {
          "output_type": "stream",
          "name": "stderr",
          "text": [
            "WARNING:absl:`lr` is deprecated in Keras optimizer, please use `learning_rate` or use the legacy optimizer, e.g.,tf.keras.optimizers.legacy.Adam.\n"
          ]
        },
        {
          "output_type": "stream",
          "name": "stdout",
          "text": [
            "2/2 [==============================] - 0s 34ms/step\n",
            "0.7738156167559143\n"
          ]
        },
        {
          "output_type": "stream",
          "name": "stderr",
          "text": [
            "WARNING:absl:`lr` is deprecated in Keras optimizer, please use `learning_rate` or use the legacy optimizer, e.g.,tf.keras.optimizers.legacy.Adam.\n"
          ]
        },
        {
          "output_type": "stream",
          "name": "stdout",
          "text": [
            "2/2 [==============================] - 0s 22ms/step\n"
          ]
        },
        {
          "output_type": "stream",
          "name": "stderr",
          "text": [
            "WARNING:absl:`lr` is deprecated in Keras optimizer, please use `learning_rate` or use the legacy optimizer, e.g.,tf.keras.optimizers.legacy.Adam.\n"
          ]
        },
        {
          "output_type": "stream",
          "name": "stdout",
          "text": [
            "0.7901681574721435\n",
            "2/2 [==============================] - 0s 17ms/step\n"
          ]
        },
        {
          "output_type": "stream",
          "name": "stderr",
          "text": [
            "WARNING:absl:`lr` is deprecated in Keras optimizer, please use `learning_rate` or use the legacy optimizer, e.g.,tf.keras.optimizers.legacy.Adam.\n"
          ]
        },
        {
          "output_type": "stream",
          "name": "stdout",
          "text": [
            "0.7783330357558869\n",
            "2/2 [==============================] - 0s 17ms/step\n",
            "0.7016502235027691\n"
          ]
        }
      ]
    },
    {
      "cell_type": "code",
      "source": [
        "#correct = output_normalized_val[:,:,:,:]\n",
        "#x = pred.flatten()\n",
        "#y = correct.flatten()\n",
        "#print(np.corrcoef(x,y)[0,1])"
      ],
      "metadata": {
        "id": "3669vaqtmj2K"
      },
      "execution_count": null,
      "outputs": []
    },
    {
      "cell_type": "code",
      "source": [
        "correlations"
      ],
      "metadata": {
        "colab": {
          "base_uri": "https://localhost:8080/"
        },
        "id": "8Irq8smCnk55",
        "outputId": "6ff21a0c-77ac-4d71-d3ca-81985078a898"
      },
      "execution_count": null,
      "outputs": [
        {
          "output_type": "execute_result",
          "data": {
            "text/plain": [
              "[0.5727261663618621,\n",
              " 0.6402574977383619,\n",
              " 0.6459403861253787,\n",
              " 0.6644240075971182,\n",
              " 0.7052887028132596,\n",
              " 0.7283192965326847,\n",
              " 0.7512927785004402,\n",
              " 0.7738156167559143,\n",
              " 0.7901681574721435,\n",
              " 0.7783330357558869,\n",
              " 0.7016502235027691]"
            ]
          },
          "metadata": {},
          "execution_count": 53
        }
      ]
    },
    {
      "cell_type": "code",
      "source": [
        "import matplotlib.pyplot as plt\n",
        "\n",
        "x = np.array([i for i in range(1,12)])\n",
        "y = np.array(correlations)\n",
        "\n",
        "plt.rcdefaults()\n",
        "fig, ax = plt.subplots()\n",
        "bars = ax.bar(x,y, align='center', color=np.where(y == y.max(),'red','cadetblue'))\n",
        "ax.set_xticks(x)\n",
        "ax.set_xticklabels(x)\n",
        "ax.set_xlabel('Re-trained Layer')\n",
        "ax.set_ylabel('Correlation')\n",
        "#ax.set_title(\"Correlations of neural networks re-trained on each layer\", fontweight='bold', fontsize=14)\n",
        "bars[0].set_color(\"blue\")"
      ],
      "metadata": {
        "colab": {
          "base_uri": "https://localhost:8080/",
          "height": 449
        },
        "id": "NvjEDaFJpT_X",
        "outputId": "c13929a7-c6a3-4055-b7fe-7c2a2fdffd35"
      },
      "execution_count": null,
      "outputs": [
        {
          "output_type": "display_data",
          "data": {
            "text/plain": [
              "<Figure size 640x480 with 1 Axes>"
            ],
            "image/png": "[encoded data removed]"
          },
          "metadata": {}
        }
      ]
    },
    {
      "cell_type": "code",
      "source": [
        "y = [0.3876784861828203, 0.5727261663618621, 0.7901681574721435]\n",
        "x = ['BNN', 'TLNN1', 'TLNN9']"
      ],
      "metadata": {
        "id": "klbsZMmmxY_l"
      },
      "execution_count": null,
      "outputs": []
    },
    {
      "cell_type": "code",
      "source": [
        "import matplotlib.pyplot as plt\n",
        "plt.bar(x,y)\n",
        "plt.xlabel('Network')\n",
        "plt.ylabel('Correlation')\n",
        "plt.show()"
      ],
      "metadata": {
        "id": "GIgC2zKoqhdU",
        "colab": {
          "base_uri": "https://localhost:8080/",
          "height": 449
        },
        "outputId": "8282e8f0-b525-499b-e343-69827758f554"
      },
      "execution_count": null,
      "outputs": [
        {
          "output_type": "display_data",
          "data": {
            "text/plain": [
              "<Figure size 640x480 with 1 Axes>"
            ],
            "image/png": "[encoded data removed]"
          },
          "metadata": {}
        }
      ]
    },
    {
      "cell_type": "code",
      "source": [],
      "metadata": {
        "id": "3b0zIBBsxz5B"
      },
      "execution_count": null,
      "outputs": []
    }
  ]
}
